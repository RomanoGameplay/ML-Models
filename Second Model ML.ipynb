{
 "cells":[
  {
   "cell_type":"code",
   "source":[
    "from sklearn.ensemble import RandomForestClassifier\n",
    "from sklearn.preprocessing import LabelEncoder\n",
    "from sklearn.model_selection import train_test_split, GridSearchCV, cross_val_score\n",
    "from sklearn.metrics import accuracy_score\n",
    "import pandas as pd\n",
    "import seaborn as sns\n",
    "import matplotlib.pyplot as plt"
   ],
   "execution_count":1,
   "outputs":[
    
   ],
   "metadata":{
    "datalore":{
     "node_id":"j4ZPXFP3hYQqronNWfmgHx",
     "type":"CODE",
     "hide_input_from_viewers":true,
     "hide_output_from_viewers":true
    }
   }
  },
  {
   "cell_type":"code",
   "source":[
    "df = pd.read_csv('Customer.csv')\n",
    "df.drop('Customer ID', axis=1, inplace=True)\n",
    "df.drop('Country', axis=1, inplace=True)\n",
    "df.drop('Customer Name', axis=1, inplace=True)\n",
    "df"
   ],
   "execution_count":2,
   "outputs":[
    {
     "data":{
      "text\/html":[
       "<div>\n",
       "<style scoped>\n",
       "    .dataframe tbody tr th:only-of-type {\n",
       "        vertical-align: middle;\n",
       "    }\n",
       "\n",
       "    .dataframe tbody tr th {\n",
       "        vertical-align: top;\n",
       "    }\n",
       "\n",
       "    .dataframe thead th {\n",
       "        text-align: right;\n",
       "    }\n",
       "<\/style>\n",
       "<table border=\"1\" class=\"dataframe\">\n",
       "  <thead>\n",
       "    <tr style=\"text-align: right;\">\n",
       "      <th><\/th>\n",
       "      <th>Segment<\/th>\n",
       "      <th>Age<\/th>\n",
       "      <th>City<\/th>\n",
       "      <th>State<\/th>\n",
       "      <th>Postal Code<\/th>\n",
       "      <th>Region<\/th>\n",
       "    <\/tr>\n",
       "  <\/thead>\n",
       "  <tbody>\n",
       "    <tr>\n",
       "      <th>0<\/th>\n",
       "      <td>Consumer<\/td>\n",
       "      <td>67<\/td>\n",
       "      <td>Henderson<\/td>\n",
       "      <td>Kentucky<\/td>\n",
       "      <td>42420<\/td>\n",
       "      <td>South<\/td>\n",
       "    <\/tr>\n",
       "    <tr>\n",
       "      <th>1<\/th>\n",
       "      <td>Corporate<\/td>\n",
       "      <td>31<\/td>\n",
       "      <td>Los Angeles<\/td>\n",
       "      <td>California<\/td>\n",
       "      <td>90036<\/td>\n",
       "      <td>West<\/td>\n",
       "    <\/tr>\n",
       "    <tr>\n",
       "      <th>2<\/th>\n",
       "      <td>Consumer<\/td>\n",
       "      <td>65<\/td>\n",
       "      <td>Fort Lauderdale<\/td>\n",
       "      <td>Florida<\/td>\n",
       "      <td>33311<\/td>\n",
       "      <td>South<\/td>\n",
       "    <\/tr>\n",
       "    <tr>\n",
       "      <th>3<\/th>\n",
       "      <td>Consumer<\/td>\n",
       "      <td>20<\/td>\n",
       "      <td>Los Angeles<\/td>\n",
       "      <td>California<\/td>\n",
       "      <td>90032<\/td>\n",
       "      <td>West<\/td>\n",
       "    <\/tr>\n",
       "    <tr>\n",
       "      <th>4<\/th>\n",
       "      <td>Consumer<\/td>\n",
       "      <td>50<\/td>\n",
       "      <td>Concord<\/td>\n",
       "      <td>North Carolina<\/td>\n",
       "      <td>28027<\/td>\n",
       "      <td>South<\/td>\n",
       "    <\/tr>\n",
       "    <tr>\n",
       "      <th>...<\/th>\n",
       "      <td>...<\/td>\n",
       "      <td>...<\/td>\n",
       "      <td>...<\/td>\n",
       "      <td>...<\/td>\n",
       "      <td>...<\/td>\n",
       "      <td>...<\/td>\n",
       "    <\/tr>\n",
       "    <tr>\n",
       "      <th>788<\/th>\n",
       "      <td>Corporate<\/td>\n",
       "      <td>64<\/td>\n",
       "      <td>Philadelphia<\/td>\n",
       "      <td>Pennsylvania<\/td>\n",
       "      <td>19140<\/td>\n",
       "      <td>East<\/td>\n",
       "    <\/tr>\n",
       "    <tr>\n",
       "      <th>789<\/th>\n",
       "      <td>Home Office<\/td>\n",
       "      <td>39<\/td>\n",
       "      <td>Burlington<\/td>\n",
       "      <td>Iowa<\/td>\n",
       "      <td>52601<\/td>\n",
       "      <td>Central<\/td>\n",
       "    <\/tr>\n",
       "    <tr>\n",
       "      <th>790<\/th>\n",
       "      <td>Consumer<\/td>\n",
       "      <td>69<\/td>\n",
       "      <td>Arlington Heights<\/td>\n",
       "      <td>Illinois<\/td>\n",
       "      <td>60004<\/td>\n",
       "      <td>Central<\/td>\n",
       "    <\/tr>\n",
       "    <tr>\n",
       "      <th>791<\/th>\n",
       "      <td>Consumer<\/td>\n",
       "      <td>35<\/td>\n",
       "      <td>Kent<\/td>\n",
       "      <td>Ohio<\/td>\n",
       "      <td>44240<\/td>\n",
       "      <td>East<\/td>\n",
       "    <\/tr>\n",
       "    <tr>\n",
       "      <th>792<\/th>\n",
       "      <td>Consumer<\/td>\n",
       "      <td>46<\/td>\n",
       "      <td>Newark<\/td>\n",
       "      <td>Ohio<\/td>\n",
       "      <td>43055<\/td>\n",
       "      <td>East<\/td>\n",
       "    <\/tr>\n",
       "  <\/tbody>\n",
       "<\/table>\n",
       "<p>793 rows × 6 columns<\/p>\n",
       "<\/div>"
      ]
     },
     "metadata":{
      
     },
     "output_type":"display_data"
    }
   ],
   "metadata":{
    "datalore":{
     "node_id":"NNBkIPfzFRlKPHjLWAENhy",
     "type":"CODE",
     "hide_input_from_viewers":true,
     "hide_output_from_viewers":true
    }
   }
  },
  {
   "cell_type":"code",
   "source":[
    "df['Age'] = df['Age'].astype(int)"
   ],
   "execution_count":3,
   "outputs":[
    
   ],
   "metadata":{
    "datalore":{
     "node_id":"oweRit9KfArPcbJRX0jRbL",
     "type":"CODE",
     "hide_input_from_viewers":true,
     "hide_output_from_viewers":true
    }
   }
  },
  {
   "cell_type":"code",
   "source":[
    "df.info()"
   ],
   "execution_count":4,
   "outputs":[
    {
     "name":"stdout",
     "text":[
      "<class 'pandas.core.frame.DataFrame'>\n",
      "RangeIndex: 793 entries, 0 to 792\n",
      "Data columns (total 6 columns):\n",
      " #   Column       Non-Null Count  Dtype \n",
      "---  ------       --------------  ----- \n",
      " 0   Segment      793 non-null    object\n",
      " 1   Age          793 non-null    int64 \n",
      " 2   City         793 non-null    object\n",
      " 3   State        793 non-null    object\n",
      " 4   Postal Code  793 non-null    int64 \n",
      " 5   Region       793 non-null    object\n",
      "dtypes: int64(2), object(4)\n",
      "memory usage: 37.3+ KB\n"
     ],
     "output_type":"stream"
    }
   ],
   "metadata":{
    "datalore":{
     "node_id":"nSoWvVEucYzFHPhEv90umQ",
     "type":"CODE",
     "hide_input_from_viewers":true,
     "hide_output_from_viewers":true
    }
   }
  },
  {
   "cell_type":"code",
   "source":[
    "plt.figure(figsize=(16, 12))\n",
    "sns.heatmap(df.corr(method='pearson'), annot=True, fmt='.2f')"
   ],
   "execution_count":5,
   "outputs":[
    {
     "data":{
      "text\/plain":[
       "<AxesSubplot:>"
      ]
     },
     "metadata":{
      
     },
     "output_type":"display_data"
    },
    {
     "data":{
      "image\/png":"[encoded data removed]"
     },
     "metadata":{
      "image\/png":{
       
      }
     },
     "output_type":"display_data"
    }
   ],
   "metadata":{
    "datalore":{
     "node_id":"euI9GV6RZG6AL2e76oD2RE",
     "type":"CODE",
     "hide_input_from_viewers":true,
     "hide_output_from_viewers":true
    }
   }
  },
  {
   "cell_type":"code",
   "source":[
    "label = LabelEncoder()\n",
    "\n",
    "\n",
    "y = df['Segment'].values\n",
    "df.drop('Segment', axis=1, inplace=True)\n",
    "x = df.iloc[:, :-1]\n",
    "x"
   ],
   "execution_count":6,
   "outputs":[
    {
     "data":{
      "text\/html":[
       "<div>\n",
       "<style scoped>\n",
       "    .dataframe tbody tr th:only-of-type {\n",
       "        vertical-align: middle;\n",
       "    }\n",
       "\n",
       "    .dataframe tbody tr th {\n",
       "        vertical-align: top;\n",
       "    }\n",
       "\n",
       "    .dataframe thead th {\n",
       "        text-align: right;\n",
       "    }\n",
       "<\/style>\n",
       "<table border=\"1\" class=\"dataframe\">\n",
       "  <thead>\n",
       "    <tr style=\"text-align: right;\">\n",
       "      <th><\/th>\n",
       "      <th>Age<\/th>\n",
       "      <th>City<\/th>\n",
       "      <th>State<\/th>\n",
       "      <th>Postal Code<\/th>\n",
       "    <\/tr>\n",
       "  <\/thead>\n",
       "  <tbody>\n",
       "    <tr>\n",
       "      <th>0<\/th>\n",
       "      <td>67<\/td>\n",
       "      <td>Henderson<\/td>\n",
       "      <td>Kentucky<\/td>\n",
       "      <td>42420<\/td>\n",
       "    <\/tr>\n",
       "    <tr>\n",
       "      <th>1<\/th>\n",
       "      <td>31<\/td>\n",
       "      <td>Los Angeles<\/td>\n",
       "      <td>California<\/td>\n",
       "      <td>90036<\/td>\n",
       "    <\/tr>\n",
       "    <tr>\n",
       "      <th>2<\/th>\n",
       "      <td>65<\/td>\n",
       "      <td>Fort Lauderdale<\/td>\n",
       "      <td>Florida<\/td>\n",
       "      <td>33311<\/td>\n",
       "    <\/tr>\n",
       "    <tr>\n",
       "      <th>3<\/th>\n",
       "      <td>20<\/td>\n",
       "      <td>Los Angeles<\/td>\n",
       "      <td>California<\/td>\n",
       "      <td>90032<\/td>\n",
       "    <\/tr>\n",
       "    <tr>\n",
       "      <th>4<\/th>\n",
       "      <td>50<\/td>\n",
       "      <td>Concord<\/td>\n",
       "      <td>North Carolina<\/td>\n",
       "      <td>28027<\/td>\n",
       "    <\/tr>\n",
       "    <tr>\n",
       "      <th>...<\/th>\n",
       "      <td>...<\/td>\n",
       "      <td>...<\/td>\n",
       "      <td>...<\/td>\n",
       "      <td>...<\/td>\n",
       "    <\/tr>\n",
       "    <tr>\n",
       "      <th>788<\/th>\n",
       "      <td>64<\/td>\n",
       "      <td>Philadelphia<\/td>\n",
       "      <td>Pennsylvania<\/td>\n",
       "      <td>19140<\/td>\n",
       "    <\/tr>\n",
       "    <tr>\n",
       "      <th>789<\/th>\n",
       "      <td>39<\/td>\n",
       "      <td>Burlington<\/td>\n",
       "      <td>Iowa<\/td>\n",
       "      <td>52601<\/td>\n",
       "    <\/tr>\n",
       "    <tr>\n",
       "      <th>790<\/th>\n",
       "      <td>69<\/td>\n",
       "      <td>Arlington Heights<\/td>\n",
       "      <td>Illinois<\/td>\n",
       "      <td>60004<\/td>\n",
       "    <\/tr>\n",
       "    <tr>\n",
       "      <th>791<\/th>\n",
       "      <td>35<\/td>\n",
       "      <td>Kent<\/td>\n",
       "      <td>Ohio<\/td>\n",
       "      <td>44240<\/td>\n",
       "    <\/tr>\n",
       "    <tr>\n",
       "      <th>792<\/th>\n",
       "      <td>46<\/td>\n",
       "      <td>Newark<\/td>\n",
       "      <td>Ohio<\/td>\n",
       "      <td>43055<\/td>\n",
       "    <\/tr>\n",
       "  <\/tbody>\n",
       "<\/table>\n",
       "<p>793 rows × 4 columns<\/p>\n",
       "<\/div>"
      ]
     },
     "metadata":{
      
     },
     "output_type":"display_data"
    }
   ],
   "metadata":{
    "datalore":{
     "node_id":"zsFfpPKfVoxniINnJ051uJ",
     "type":"CODE",
     "hide_input_from_viewers":true,
     "hide_output_from_viewers":true
    }
   }
  },
  {
   "cell_type":"code",
   "source":[
    "cols = x.describe(include=object).columns\n",
    "\n",
    "for col in cols:\n",
    "    x[col] = label.fit_transform(x[col])\n",
    "    x[col] = x[col].values"
   ],
   "execution_count":7,
   "outputs":[
    
   ],
   "metadata":{
    "datalore":{
     "node_id":"07MraZIOlUBoCHwbOSutj4",
     "type":"CODE",
     "hide_input_from_viewers":true,
     "hide_output_from_viewers":true
    }
   }
  },
  {
   "cell_type":"code",
   "source":[
    "plt.figure(figsize=(16, 12))\n",
    "sns.heatmap(x.corr(method='pearson'), annot=True)"
   ],
   "execution_count":8,
   "outputs":[
    {
     "data":{
      "text\/plain":[
       "<AxesSubplot:>"
      ]
     },
     "metadata":{
      
     },
     "output_type":"display_data"
    },
    {
     "data":{
      "image\/png":"[encoded data removed]"
     },
     "metadata":{
      "image\/png":{
       
      }
     },
     "output_type":"display_data"
    }
   ],
   "metadata":{
    "datalore":{
     "node_id":"8lJbJ42riSeipVsX5XxnRH",
     "type":"CODE",
     "hide_input_from_viewers":true,
     "hide_output_from_viewers":true
    }
   }
  },
  {
   "cell_type":"code",
   "source":[
    "\n",
    "x_train, x_test, y_train, y_test = train_test_split(x, y, train_size=0.7)\n",
    "\n",
    "\n",
    "classtree = RandomForestClassifier(max_features='log2', max_depth=5, n_estimators=1000, n_jobs=-1, criterion='entropy', warm_start=True)\n",
    "classtree.fit(x_train, y_train)"
   ],
   "execution_count":9,
   "outputs":[
    {
     "data":{
      "text\/plain":[
       "RandomForestClassifier(criterion='entropy', max_depth=5, max_features='log2',\n",
       "                       n_estimators=1000, n_jobs=-1, warm_start=True)"
      ]
     },
     "metadata":{
      
     },
     "output_type":"display_data"
    }
   ],
   "metadata":{
    "datalore":{
     "node_id":"vtIpbqBUYIwXcb8SqaNIb0",
     "type":"CODE",
     "hide_input_from_viewers":true,
     "hide_output_from_viewers":true
    }
   }
  },
  {
   "cell_type":"code",
   "source":[
    "pred = classtree.predict(x_test)\n",
    "print('accuracy_score: ', accuracy_score(y_test, pred))"
   ],
   "execution_count":10,
   "outputs":[
    {
     "name":"stdout",
     "text":[
      "accuracy_score:  0.5336134453781513\n"
     ],
     "output_type":"stream"
    }
   ],
   "metadata":{
    "datalore":{
     "node_id":"HL8RMDdDWJIihS8ef93bA4",
     "type":"CODE",
     "hide_input_from_viewers":true,
     "hide_output_from_viewers":true
    }
   }
  },
  {
   "cell_type":"code",
   "source":[
    
   ],
   "execution_count":null,
   "outputs":[
    
   ],
   "metadata":{
    "datalore":{
     "node_id":"9TMJMeI1pM7jp9zWyZweHE",
     "type":"CODE",
     "hide_input_from_viewers":true,
     "hide_output_from_viewers":true
    }
   }
  }
 ],
 "metadata":{
  "kernelspec":{
   "display_name":"Python",
   "language":"python",
   "name":"python"
  },
  "datalore":{
   "computation_mode":"REACTIVE",
   "package_manager":"pip",
   "base_environment":"default",
   "packages":[
    {
     "name":"h2o",
     "version":"3.36.1.3",
     "source":"PIP"
    }
   ],
   "report_row_ids":[
    
   ],
   "version":2
  }
 },
 "nbformat":4,
 "nbformat_minor":4
}