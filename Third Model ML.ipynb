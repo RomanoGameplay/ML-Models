{
 "cells":[
  {
   "cell_type":"markdown",
   "source":[
    "# EDA"
   ],
   "attachments":{
    
   },
   "metadata":{
    "datalore":{
     "node_id":"EDA",
     "type":"MD",
     "hide_input_from_viewers":false,
     "hide_output_from_viewers":false,
     "sheet_delimiter":true
    }
   }
  },
  {
   "cell_type":"code",
   "source":[
    "import pandas as pd\n",
    "from sklearn.preprocessing import StandardScaler, MinMaxScaler\n",
    "import matplotlib.pyplot as plt\n",
    "%matplotlib inline"
   ],
   "execution_count":1,
   "outputs":[
    
   ],
   "metadata":{
    "datalore":{
     "node_id":"Abe90V9m3hrFKsP6Fa5Pbf",
     "type":"CODE",
     "hide_input_from_viewers":true,
     "hide_output_from_viewers":true
    }
   }
  },
  {
   "cell_type":"code",
   "source":[
    "df = pd.read_csv('House_Price.csv')\n",
    "df.dropna(inplace=True)\n",
    "df"
   ],
   "execution_count":2,
   "outputs":[
    {
     "data":{
      "text\/html":[
       "<div>\n",
       "<style scoped>\n",
       "    .dataframe tbody tr th:only-of-type {\n",
       "        vertical-align: middle;\n",
       "    }\n",
       "\n",
       "    .dataframe tbody tr th {\n",
       "        vertical-align: top;\n",
       "    }\n",
       "\n",
       "    .dataframe thead th {\n",
       "        text-align: right;\n",
       "    }\n",
       "<\/style>\n",
       "<table border=\"1\" class=\"dataframe\">\n",
       "  <thead>\n",
       "    <tr style=\"text-align: right;\">\n",
       "      <th><\/th>\n",
       "      <th>price<\/th>\n",
       "      <th>crime_rate<\/th>\n",
       "      <th>resid_area<\/th>\n",
       "      <th>air_qual<\/th>\n",
       "      <th>room_num<\/th>\n",
       "      <th>age<\/th>\n",
       "      <th>dist1<\/th>\n",
       "      <th>dist2<\/th>\n",
       "      <th>dist3<\/th>\n",
       "      <th>dist4<\/th>\n",
       "      <th>teachers<\/th>\n",
       "      <th>poor_prop<\/th>\n",
       "      <th>airport<\/th>\n",
       "      <th>n_hos_beds<\/th>\n",
       "      <th>n_hot_rooms<\/th>\n",
       "      <th>waterbody<\/th>\n",
       "      <th>rainfall<\/th>\n",
       "      <th>bus_ter<\/th>\n",
       "      <th>parks<\/th>\n",
       "    <\/tr>\n",
       "  <\/thead>\n",
       "  <tbody>\n",
       "    <tr>\n",
       "      <th>0<\/th>\n",
       "      <td>24.0<\/td>\n",
       "      <td>0.00632<\/td>\n",
       "      <td>32.31<\/td>\n",
       "      <td>0.538<\/td>\n",
       "      <td>6.575<\/td>\n",
       "      <td>65.2<\/td>\n",
       "      <td>4.35<\/td>\n",
       "      <td>3.81<\/td>\n",
       "      <td>4.18<\/td>\n",
       "      <td>4.01<\/td>\n",
       "      <td>24.7<\/td>\n",
       "      <td>4.98<\/td>\n",
       "      <td>YES<\/td>\n",
       "      <td>5.480<\/td>\n",
       "      <td>11.1920<\/td>\n",
       "      <td>River<\/td>\n",
       "      <td>23<\/td>\n",
       "      <td>YES<\/td>\n",
       "      <td>0.049347<\/td>\n",
       "    <\/tr>\n",
       "    <tr>\n",
       "      <th>1<\/th>\n",
       "      <td>21.6<\/td>\n",
       "      <td>0.02731<\/td>\n",
       "      <td>37.07<\/td>\n",
       "      <td>0.469<\/td>\n",
       "      <td>6.421<\/td>\n",
       "      <td>78.9<\/td>\n",
       "      <td>4.99<\/td>\n",
       "      <td>4.70<\/td>\n",
       "      <td>5.12<\/td>\n",
       "      <td>5.06<\/td>\n",
       "      <td>22.2<\/td>\n",
       "      <td>9.14<\/td>\n",
       "      <td>NO<\/td>\n",
       "      <td>7.332<\/td>\n",
       "      <td>12.1728<\/td>\n",
       "      <td>Lake<\/td>\n",
       "      <td>42<\/td>\n",
       "      <td>YES<\/td>\n",
       "      <td>0.046146<\/td>\n",
       "    <\/tr>\n",
       "    <tr>\n",
       "      <th>2<\/th>\n",
       "      <td>34.7<\/td>\n",
       "      <td>0.02729<\/td>\n",
       "      <td>37.07<\/td>\n",
       "      <td>0.469<\/td>\n",
       "      <td>7.185<\/td>\n",
       "      <td>61.1<\/td>\n",
       "      <td>5.03<\/td>\n",
       "      <td>4.86<\/td>\n",
       "      <td>5.01<\/td>\n",
       "      <td>4.97<\/td>\n",
       "      <td>22.2<\/td>\n",
       "      <td>4.03<\/td>\n",
       "      <td>NO<\/td>\n",
       "      <td>7.394<\/td>\n",
       "      <td>101.1200<\/td>\n",
       "      <td>None<\/td>\n",
       "      <td>38<\/td>\n",
       "      <td>YES<\/td>\n",
       "      <td>0.045764<\/td>\n",
       "    <\/tr>\n",
       "    <tr>\n",
       "      <th>3<\/th>\n",
       "      <td>33.4<\/td>\n",
       "      <td>0.03237<\/td>\n",
       "      <td>32.18<\/td>\n",
       "      <td>0.458<\/td>\n",
       "      <td>6.998<\/td>\n",
       "      <td>45.8<\/td>\n",
       "      <td>6.21<\/td>\n",
       "      <td>5.93<\/td>\n",
       "      <td>6.16<\/td>\n",
       "      <td>5.96<\/td>\n",
       "      <td>21.3<\/td>\n",
       "      <td>2.94<\/td>\n",
       "      <td>YES<\/td>\n",
       "      <td>9.268<\/td>\n",
       "      <td>11.2672<\/td>\n",
       "      <td>Lake<\/td>\n",
       "      <td>45<\/td>\n",
       "      <td>YES<\/td>\n",
       "      <td>0.047151<\/td>\n",
       "    <\/tr>\n",
       "    <tr>\n",
       "      <th>4<\/th>\n",
       "      <td>36.2<\/td>\n",
       "      <td>0.06905<\/td>\n",
       "      <td>32.18<\/td>\n",
       "      <td>0.458<\/td>\n",
       "      <td>7.147<\/td>\n",
       "      <td>54.2<\/td>\n",
       "      <td>6.16<\/td>\n",
       "      <td>5.86<\/td>\n",
       "      <td>6.37<\/td>\n",
       "      <td>5.86<\/td>\n",
       "      <td>21.3<\/td>\n",
       "      <td>5.33<\/td>\n",
       "      <td>NO<\/td>\n",
       "      <td>8.824<\/td>\n",
       "      <td>11.2896<\/td>\n",
       "      <td>Lake<\/td>\n",
       "      <td>55<\/td>\n",
       "      <td>YES<\/td>\n",
       "      <td>0.039474<\/td>\n",
       "    <\/tr>\n",
       "    <tr>\n",
       "      <th>...<\/th>\n",
       "      <td>...<\/td>\n",
       "      <td>...<\/td>\n",
       "      <td>...<\/td>\n",
       "      <td>...<\/td>\n",
       "      <td>...<\/td>\n",
       "      <td>...<\/td>\n",
       "      <td>...<\/td>\n",
       "      <td>...<\/td>\n",
       "      <td>...<\/td>\n",
       "      <td>...<\/td>\n",
       "      <td>...<\/td>\n",
       "      <td>...<\/td>\n",
       "      <td>...<\/td>\n",
       "      <td>...<\/td>\n",
       "      <td>...<\/td>\n",
       "      <td>...<\/td>\n",
       "      <td>...<\/td>\n",
       "      <td>...<\/td>\n",
       "      <td>...<\/td>\n",
       "    <\/tr>\n",
       "    <tr>\n",
       "      <th>501<\/th>\n",
       "      <td>22.4<\/td>\n",
       "      <td>0.06263<\/td>\n",
       "      <td>41.93<\/td>\n",
       "      <td>0.573<\/td>\n",
       "      <td>6.593<\/td>\n",
       "      <td>69.1<\/td>\n",
       "      <td>2.64<\/td>\n",
       "      <td>2.45<\/td>\n",
       "      <td>2.76<\/td>\n",
       "      <td>2.06<\/td>\n",
       "      <td>19.0<\/td>\n",
       "      <td>9.67<\/td>\n",
       "      <td>NO<\/td>\n",
       "      <td>9.348<\/td>\n",
       "      <td>12.1792<\/td>\n",
       "      <td>Lake and River<\/td>\n",
       "      <td>27<\/td>\n",
       "      <td>YES<\/td>\n",
       "      <td>0.056006<\/td>\n",
       "    <\/tr>\n",
       "    <tr>\n",
       "      <th>502<\/th>\n",
       "      <td>20.6<\/td>\n",
       "      <td>0.04527<\/td>\n",
       "      <td>41.93<\/td>\n",
       "      <td>0.573<\/td>\n",
       "      <td>6.120<\/td>\n",
       "      <td>76.7<\/td>\n",
       "      <td>2.44<\/td>\n",
       "      <td>2.11<\/td>\n",
       "      <td>2.46<\/td>\n",
       "      <td>2.14<\/td>\n",
       "      <td>19.0<\/td>\n",
       "      <td>9.08<\/td>\n",
       "      <td>YES<\/td>\n",
       "      <td>6.612<\/td>\n",
       "      <td>13.1648<\/td>\n",
       "      <td>Lake and River<\/td>\n",
       "      <td>20<\/td>\n",
       "      <td>YES<\/td>\n",
       "      <td>0.059903<\/td>\n",
       "    <\/tr>\n",
       "    <tr>\n",
       "      <th>503<\/th>\n",
       "      <td>23.9<\/td>\n",
       "      <td>0.06076<\/td>\n",
       "      <td>41.93<\/td>\n",
       "      <td>0.573<\/td>\n",
       "      <td>6.976<\/td>\n",
       "      <td>91.0<\/td>\n",
       "      <td>2.34<\/td>\n",
       "      <td>2.06<\/td>\n",
       "      <td>2.29<\/td>\n",
       "      <td>1.98<\/td>\n",
       "      <td>19.0<\/td>\n",
       "      <td>5.64<\/td>\n",
       "      <td>NO<\/td>\n",
       "      <td>5.478<\/td>\n",
       "      <td>12.1912<\/td>\n",
       "      <td>None<\/td>\n",
       "      <td>31<\/td>\n",
       "      <td>YES<\/td>\n",
       "      <td>0.057572<\/td>\n",
       "    <\/tr>\n",
       "    <tr>\n",
       "      <th>504<\/th>\n",
       "      <td>22.0<\/td>\n",
       "      <td>0.10959<\/td>\n",
       "      <td>41.93<\/td>\n",
       "      <td>0.573<\/td>\n",
       "      <td>6.794<\/td>\n",
       "      <td>89.3<\/td>\n",
       "      <td>2.54<\/td>\n",
       "      <td>2.31<\/td>\n",
       "      <td>2.40<\/td>\n",
       "      <td>2.31<\/td>\n",
       "      <td>19.0<\/td>\n",
       "      <td>6.48<\/td>\n",
       "      <td>YES<\/td>\n",
       "      <td>7.940<\/td>\n",
       "      <td>15.1760<\/td>\n",
       "      <td>None<\/td>\n",
       "      <td>47<\/td>\n",
       "      <td>YES<\/td>\n",
       "      <td>0.060694<\/td>\n",
       "    <\/tr>\n",
       "    <tr>\n",
       "      <th>505<\/th>\n",
       "      <td>19.0<\/td>\n",
       "      <td>0.04741<\/td>\n",
       "      <td>41.93<\/td>\n",
       "      <td>0.573<\/td>\n",
       "      <td>6.030<\/td>\n",
       "      <td>80.8<\/td>\n",
       "      <td>2.72<\/td>\n",
       "      <td>2.24<\/td>\n",
       "      <td>2.64<\/td>\n",
       "      <td>2.42<\/td>\n",
       "      <td>19.0<\/td>\n",
       "      <td>7.88<\/td>\n",
       "      <td>YES<\/td>\n",
       "      <td>10.280<\/td>\n",
       "      <td>10.1520<\/td>\n",
       "      <td>None<\/td>\n",
       "      <td>45<\/td>\n",
       "      <td>YES<\/td>\n",
       "      <td>0.060336<\/td>\n",
       "    <\/tr>\n",
       "  <\/tbody>\n",
       "<\/table>\n",
       "<p>498 rows × 19 columns<\/p>\n",
       "<\/div>"
      ]
     },
     "metadata":{
      
     },
     "output_type":"display_data"
    }
   ],
   "metadata":{
    "datalore":{
     "node_id":"teu1FWaeeBhuHp52bOV01g",
     "type":"CODE",
     "hide_input_from_viewers":true,
     "hide_output_from_viewers":true
    }
   }
  },
  {
   "cell_type":"code",
   "source":[
    "df.info()"
   ],
   "execution_count":3,
   "outputs":[
    {
     "name":"stdout",
     "text":[
      "<class 'pandas.core.frame.DataFrame'>\n",
      "Int64Index: 498 entries, 0 to 505\n",
      "Data columns (total 19 columns):\n",
      " #   Column       Non-Null Count  Dtype  \n",
      "---  ------       --------------  -----  \n",
      " 0   price        498 non-null    float64\n",
      " 1   crime_rate   498 non-null    float64\n",
      " 2   resid_area   498 non-null    float64\n",
      " 3   air_qual     498 non-null    float64\n",
      " 4   room_num     498 non-null    float64\n",
      " 5   age          498 non-null    float64\n",
      " 6   dist1        498 non-null    float64\n",
      " 7   dist2        498 non-null    float64\n",
      " 8   dist3        498 non-null    float64\n",
      " 9   dist4        498 non-null    float64\n",
      " 10  teachers     498 non-null    float64\n",
      " 11  poor_prop    498 non-null    float64\n",
      " 12  airport      498 non-null    object \n",
      " 13  n_hos_beds   498 non-null    float64\n",
      " 14  n_hot_rooms  498 non-null    float64\n",
      " 15  waterbody    498 non-null    object \n",
      " 16  rainfall     498 non-null    int64  \n",
      " 17  bus_ter      498 non-null    object \n",
      " 18  parks        498 non-null    float64\n",
      "dtypes: float64(15), int64(1), object(3)\n",
      "memory usage: 77.8+ KB\n"
     ],
     "output_type":"stream"
    }
   ],
   "metadata":{
    "datalore":{
     "node_id":"7gEZFjMkw9QafYW9cAtS15",
     "type":"CODE",
     "hide_input_from_viewers":true,
     "hide_output_from_viewers":true
    }
   }
  },
  {
   "cell_type":"code",
   "source":[
    "df.rename(columns={'n_hos_beds':'n_hot_beds'})"
   ],
   "execution_count":4,
   "outputs":[
    {
     "data":{
      "text\/html":[
       "<div>\n",
       "<style scoped>\n",
       "    .dataframe tbody tr th:only-of-type {\n",
       "        vertical-align: middle;\n",
       "    }\n",
       "\n",
       "    .dataframe tbody tr th {\n",
       "        vertical-align: top;\n",
       "    }\n",
       "\n",
       "    .dataframe thead th {\n",
       "        text-align: right;\n",
       "    }\n",
       "<\/style>\n",
       "<table border=\"1\" class=\"dataframe\">\n",
       "  <thead>\n",
       "    <tr style=\"text-align: right;\">\n",
       "      <th><\/th>\n",
       "      <th>price<\/th>\n",
       "      <th>crime_rate<\/th>\n",
       "      <th>resid_area<\/th>\n",
       "      <th>air_qual<\/th>\n",
       "      <th>room_num<\/th>\n",
       "      <th>age<\/th>\n",
       "      <th>dist1<\/th>\n",
       "      <th>dist2<\/th>\n",
       "      <th>dist3<\/th>\n",
       "      <th>dist4<\/th>\n",
       "      <th>teachers<\/th>\n",
       "      <th>poor_prop<\/th>\n",
       "      <th>airport<\/th>\n",
       "      <th>n_hot_beds<\/th>\n",
       "      <th>n_hot_rooms<\/th>\n",
       "      <th>waterbody<\/th>\n",
       "      <th>rainfall<\/th>\n",
       "      <th>bus_ter<\/th>\n",
       "      <th>parks<\/th>\n",
       "    <\/tr>\n",
       "  <\/thead>\n",
       "  <tbody>\n",
       "    <tr>\n",
       "      <th>0<\/th>\n",
       "      <td>24.0<\/td>\n",
       "      <td>0.00632<\/td>\n",
       "      <td>32.31<\/td>\n",
       "      <td>0.538<\/td>\n",
       "      <td>6.575<\/td>\n",
       "      <td>65.2<\/td>\n",
       "      <td>4.35<\/td>\n",
       "      <td>3.81<\/td>\n",
       "      <td>4.18<\/td>\n",
       "      <td>4.01<\/td>\n",
       "      <td>24.7<\/td>\n",
       "      <td>4.98<\/td>\n",
       "      <td>YES<\/td>\n",
       "      <td>5.480<\/td>\n",
       "      <td>11.1920<\/td>\n",
       "      <td>River<\/td>\n",
       "      <td>23<\/td>\n",
       "      <td>YES<\/td>\n",
       "      <td>0.049347<\/td>\n",
       "    <\/tr>\n",
       "    <tr>\n",
       "      <th>1<\/th>\n",
       "      <td>21.6<\/td>\n",
       "      <td>0.02731<\/td>\n",
       "      <td>37.07<\/td>\n",
       "      <td>0.469<\/td>\n",
       "      <td>6.421<\/td>\n",
       "      <td>78.9<\/td>\n",
       "      <td>4.99<\/td>\n",
       "      <td>4.70<\/td>\n",
       "      <td>5.12<\/td>\n",
       "      <td>5.06<\/td>\n",
       "      <td>22.2<\/td>\n",
       "      <td>9.14<\/td>\n",
       "      <td>NO<\/td>\n",
       "      <td>7.332<\/td>\n",
       "      <td>12.1728<\/td>\n",
       "      <td>Lake<\/td>\n",
       "      <td>42<\/td>\n",
       "      <td>YES<\/td>\n",
       "      <td>0.046146<\/td>\n",
       "    <\/tr>\n",
       "    <tr>\n",
       "      <th>2<\/th>\n",
       "      <td>34.7<\/td>\n",
       "      <td>0.02729<\/td>\n",
       "      <td>37.07<\/td>\n",
       "      <td>0.469<\/td>\n",
       "      <td>7.185<\/td>\n",
       "      <td>61.1<\/td>\n",
       "      <td>5.03<\/td>\n",
       "      <td>4.86<\/td>\n",
       "      <td>5.01<\/td>\n",
       "      <td>4.97<\/td>\n",
       "      <td>22.2<\/td>\n",
       "      <td>4.03<\/td>\n",
       "      <td>NO<\/td>\n",
       "      <td>7.394<\/td>\n",
       "      <td>101.1200<\/td>\n",
       "      <td>None<\/td>\n",
       "      <td>38<\/td>\n",
       "      <td>YES<\/td>\n",
       "      <td>0.045764<\/td>\n",
       "    <\/tr>\n",
       "    <tr>\n",
       "      <th>3<\/th>\n",
       "      <td>33.4<\/td>\n",
       "      <td>0.03237<\/td>\n",
       "      <td>32.18<\/td>\n",
       "      <td>0.458<\/td>\n",
       "      <td>6.998<\/td>\n",
       "      <td>45.8<\/td>\n",
       "      <td>6.21<\/td>\n",
       "      <td>5.93<\/td>\n",
       "      <td>6.16<\/td>\n",
       "      <td>5.96<\/td>\n",
       "      <td>21.3<\/td>\n",
       "      <td>2.94<\/td>\n",
       "      <td>YES<\/td>\n",
       "      <td>9.268<\/td>\n",
       "      <td>11.2672<\/td>\n",
       "      <td>Lake<\/td>\n",
       "      <td>45<\/td>\n",
       "      <td>YES<\/td>\n",
       "      <td>0.047151<\/td>\n",
       "    <\/tr>\n",
       "    <tr>\n",
       "      <th>4<\/th>\n",
       "      <td>36.2<\/td>\n",
       "      <td>0.06905<\/td>\n",
       "      <td>32.18<\/td>\n",
       "      <td>0.458<\/td>\n",
       "      <td>7.147<\/td>\n",
       "      <td>54.2<\/td>\n",
       "      <td>6.16<\/td>\n",
       "      <td>5.86<\/td>\n",
       "      <td>6.37<\/td>\n",
       "      <td>5.86<\/td>\n",
       "      <td>21.3<\/td>\n",
       "      <td>5.33<\/td>\n",
       "      <td>NO<\/td>\n",
       "      <td>8.824<\/td>\n",
       "      <td>11.2896<\/td>\n",
       "      <td>Lake<\/td>\n",
       "      <td>55<\/td>\n",
       "      <td>YES<\/td>\n",
       "      <td>0.039474<\/td>\n",
       "    <\/tr>\n",
       "    <tr>\n",
       "      <th>...<\/th>\n",
       "      <td>...<\/td>\n",
       "      <td>...<\/td>\n",
       "      <td>...<\/td>\n",
       "      <td>...<\/td>\n",
       "      <td>...<\/td>\n",
       "      <td>...<\/td>\n",
       "      <td>...<\/td>\n",
       "      <td>...<\/td>\n",
       "      <td>...<\/td>\n",
       "      <td>...<\/td>\n",
       "      <td>...<\/td>\n",
       "      <td>...<\/td>\n",
       "      <td>...<\/td>\n",
       "      <td>...<\/td>\n",
       "      <td>...<\/td>\n",
       "      <td>...<\/td>\n",
       "      <td>...<\/td>\n",
       "      <td>...<\/td>\n",
       "      <td>...<\/td>\n",
       "    <\/tr>\n",
       "    <tr>\n",
       "      <th>501<\/th>\n",
       "      <td>22.4<\/td>\n",
       "      <td>0.06263<\/td>\n",
       "      <td>41.93<\/td>\n",
       "      <td>0.573<\/td>\n",
       "      <td>6.593<\/td>\n",
       "      <td>69.1<\/td>\n",
       "      <td>2.64<\/td>\n",
       "      <td>2.45<\/td>\n",
       "      <td>2.76<\/td>\n",
       "      <td>2.06<\/td>\n",
       "      <td>19.0<\/td>\n",
       "      <td>9.67<\/td>\n",
       "      <td>NO<\/td>\n",
       "      <td>9.348<\/td>\n",
       "      <td>12.1792<\/td>\n",
       "      <td>Lake and River<\/td>\n",
       "      <td>27<\/td>\n",
       "      <td>YES<\/td>\n",
       "      <td>0.056006<\/td>\n",
       "    <\/tr>\n",
       "    <tr>\n",
       "      <th>502<\/th>\n",
       "      <td>20.6<\/td>\n",
       "      <td>0.04527<\/td>\n",
       "      <td>41.93<\/td>\n",
       "      <td>0.573<\/td>\n",
       "      <td>6.120<\/td>\n",
       "      <td>76.7<\/td>\n",
       "      <td>2.44<\/td>\n",
       "      <td>2.11<\/td>\n",
       "      <td>2.46<\/td>\n",
       "      <td>2.14<\/td>\n",
       "      <td>19.0<\/td>\n",
       "      <td>9.08<\/td>\n",
       "      <td>YES<\/td>\n",
       "      <td>6.612<\/td>\n",
       "      <td>13.1648<\/td>\n",
       "      <td>Lake and River<\/td>\n",
       "      <td>20<\/td>\n",
       "      <td>YES<\/td>\n",
       "      <td>0.059903<\/td>\n",
       "    <\/tr>\n",
       "    <tr>\n",
       "      <th>503<\/th>\n",
       "      <td>23.9<\/td>\n",
       "      <td>0.06076<\/td>\n",
       "      <td>41.93<\/td>\n",
       "      <td>0.573<\/td>\n",
       "      <td>6.976<\/td>\n",
       "      <td>91.0<\/td>\n",
       "      <td>2.34<\/td>\n",
       "      <td>2.06<\/td>\n",
       "      <td>2.29<\/td>\n",
       "      <td>1.98<\/td>\n",
       "      <td>19.0<\/td>\n",
       "      <td>5.64<\/td>\n",
       "      <td>NO<\/td>\n",
       "      <td>5.478<\/td>\n",
       "      <td>12.1912<\/td>\n",
       "      <td>None<\/td>\n",
       "      <td>31<\/td>\n",
       "      <td>YES<\/td>\n",
       "      <td>0.057572<\/td>\n",
       "    <\/tr>\n",
       "    <tr>\n",
       "      <th>504<\/th>\n",
       "      <td>22.0<\/td>\n",
       "      <td>0.10959<\/td>\n",
       "      <td>41.93<\/td>\n",
       "      <td>0.573<\/td>\n",
       "      <td>6.794<\/td>\n",
       "      <td>89.3<\/td>\n",
       "      <td>2.54<\/td>\n",
       "      <td>2.31<\/td>\n",
       "      <td>2.40<\/td>\n",
       "      <td>2.31<\/td>\n",
       "      <td>19.0<\/td>\n",
       "      <td>6.48<\/td>\n",
       "      <td>YES<\/td>\n",
       "      <td>7.940<\/td>\n",
       "      <td>15.1760<\/td>\n",
       "      <td>None<\/td>\n",
       "      <td>47<\/td>\n",
       "      <td>YES<\/td>\n",
       "      <td>0.060694<\/td>\n",
       "    <\/tr>\n",
       "    <tr>\n",
       "      <th>505<\/th>\n",
       "      <td>19.0<\/td>\n",
       "      <td>0.04741<\/td>\n",
       "      <td>41.93<\/td>\n",
       "      <td>0.573<\/td>\n",
       "      <td>6.030<\/td>\n",
       "      <td>80.8<\/td>\n",
       "      <td>2.72<\/td>\n",
       "      <td>2.24<\/td>\n",
       "      <td>2.64<\/td>\n",
       "      <td>2.42<\/td>\n",
       "      <td>19.0<\/td>\n",
       "      <td>7.88<\/td>\n",
       "      <td>YES<\/td>\n",
       "      <td>10.280<\/td>\n",
       "      <td>10.1520<\/td>\n",
       "      <td>None<\/td>\n",
       "      <td>45<\/td>\n",
       "      <td>YES<\/td>\n",
       "      <td>0.060336<\/td>\n",
       "    <\/tr>\n",
       "  <\/tbody>\n",
       "<\/table>\n",
       "<p>498 rows × 19 columns<\/p>\n",
       "<\/div>"
      ]
     },
     "metadata":{
      
     },
     "output_type":"display_data"
    }
   ],
   "metadata":{
    "datalore":{
     "node_id":"20lf6r8FPkPMzR81KzjsYC",
     "type":"CODE",
     "hide_input_from_viewers":true,
     "hide_output_from_viewers":true
    }
   }
  },
  {
   "cell_type":"code",
   "source":[
    "df1 = pd.get_dummies(data=df, columns=['waterbody', 'airport', 'bus_ter'], drop_first=True)\n",
    "df1"
   ],
   "execution_count":5,
   "outputs":[
    {
     "data":{
      "text\/html":[
       "<div>\n",
       "<style scoped>\n",
       "    .dataframe tbody tr th:only-of-type {\n",
       "        vertical-align: middle;\n",
       "    }\n",
       "\n",
       "    .dataframe tbody tr th {\n",
       "        vertical-align: top;\n",
       "    }\n",
       "\n",
       "    .dataframe thead th {\n",
       "        text-align: right;\n",
       "    }\n",
       "<\/style>\n",
       "<table border=\"1\" class=\"dataframe\">\n",
       "  <thead>\n",
       "    <tr style=\"text-align: right;\">\n",
       "      <th><\/th>\n",
       "      <th>price<\/th>\n",
       "      <th>crime_rate<\/th>\n",
       "      <th>resid_area<\/th>\n",
       "      <th>air_qual<\/th>\n",
       "      <th>room_num<\/th>\n",
       "      <th>age<\/th>\n",
       "      <th>dist1<\/th>\n",
       "      <th>dist2<\/th>\n",
       "      <th>dist3<\/th>\n",
       "      <th>dist4<\/th>\n",
       "      <th>teachers<\/th>\n",
       "      <th>poor_prop<\/th>\n",
       "      <th>n_hos_beds<\/th>\n",
       "      <th>n_hot_rooms<\/th>\n",
       "      <th>rainfall<\/th>\n",
       "      <th>parks<\/th>\n",
       "      <th>waterbody_Lake and River<\/th>\n",
       "      <th>waterbody_None<\/th>\n",
       "      <th>waterbody_River<\/th>\n",
       "      <th>airport_YES<\/th>\n",
       "    <\/tr>\n",
       "  <\/thead>\n",
       "  <tbody>\n",
       "    <tr>\n",
       "      <th>0<\/th>\n",
       "      <td>24.0<\/td>\n",
       "      <td>0.00632<\/td>\n",
       "      <td>32.31<\/td>\n",
       "      <td>0.538<\/td>\n",
       "      <td>6.575<\/td>\n",
       "      <td>65.2<\/td>\n",
       "      <td>4.35<\/td>\n",
       "      <td>3.81<\/td>\n",
       "      <td>4.18<\/td>\n",
       "      <td>4.01<\/td>\n",
       "      <td>24.7<\/td>\n",
       "      <td>4.98<\/td>\n",
       "      <td>5.480<\/td>\n",
       "      <td>11.1920<\/td>\n",
       "      <td>23<\/td>\n",
       "      <td>0.049347<\/td>\n",
       "      <td>0<\/td>\n",
       "      <td>0<\/td>\n",
       "      <td>1<\/td>\n",
       "      <td>1<\/td>\n",
       "    <\/tr>\n",
       "    <tr>\n",
       "      <th>1<\/th>\n",
       "      <td>21.6<\/td>\n",
       "      <td>0.02731<\/td>\n",
       "      <td>37.07<\/td>\n",
       "      <td>0.469<\/td>\n",
       "      <td>6.421<\/td>\n",
       "      <td>78.9<\/td>\n",
       "      <td>4.99<\/td>\n",
       "      <td>4.70<\/td>\n",
       "      <td>5.12<\/td>\n",
       "      <td>5.06<\/td>\n",
       "      <td>22.2<\/td>\n",
       "      <td>9.14<\/td>\n",
       "      <td>7.332<\/td>\n",
       "      <td>12.1728<\/td>\n",
       "      <td>42<\/td>\n",
       "      <td>0.046146<\/td>\n",
       "      <td>0<\/td>\n",
       "      <td>0<\/td>\n",
       "      <td>0<\/td>\n",
       "      <td>0<\/td>\n",
       "    <\/tr>\n",
       "    <tr>\n",
       "      <th>2<\/th>\n",
       "      <td>34.7<\/td>\n",
       "      <td>0.02729<\/td>\n",
       "      <td>37.07<\/td>\n",
       "      <td>0.469<\/td>\n",
       "      <td>7.185<\/td>\n",
       "      <td>61.1<\/td>\n",
       "      <td>5.03<\/td>\n",
       "      <td>4.86<\/td>\n",
       "      <td>5.01<\/td>\n",
       "      <td>4.97<\/td>\n",
       "      <td>22.2<\/td>\n",
       "      <td>4.03<\/td>\n",
       "      <td>7.394<\/td>\n",
       "      <td>101.1200<\/td>\n",
       "      <td>38<\/td>\n",
       "      <td>0.045764<\/td>\n",
       "      <td>0<\/td>\n",
       "      <td>1<\/td>\n",
       "      <td>0<\/td>\n",
       "      <td>0<\/td>\n",
       "    <\/tr>\n",
       "    <tr>\n",
       "      <th>3<\/th>\n",
       "      <td>33.4<\/td>\n",
       "      <td>0.03237<\/td>\n",
       "      <td>32.18<\/td>\n",
       "      <td>0.458<\/td>\n",
       "      <td>6.998<\/td>\n",
       "      <td>45.8<\/td>\n",
       "      <td>6.21<\/td>\n",
       "      <td>5.93<\/td>\n",
       "      <td>6.16<\/td>\n",
       "      <td>5.96<\/td>\n",
       "      <td>21.3<\/td>\n",
       "      <td>2.94<\/td>\n",
       "      <td>9.268<\/td>\n",
       "      <td>11.2672<\/td>\n",
       "      <td>45<\/td>\n",
       "      <td>0.047151<\/td>\n",
       "      <td>0<\/td>\n",
       "      <td>0<\/td>\n",
       "      <td>0<\/td>\n",
       "      <td>1<\/td>\n",
       "    <\/tr>\n",
       "    <tr>\n",
       "      <th>4<\/th>\n",
       "      <td>36.2<\/td>\n",
       "      <td>0.06905<\/td>\n",
       "      <td>32.18<\/td>\n",
       "      <td>0.458<\/td>\n",
       "      <td>7.147<\/td>\n",
       "      <td>54.2<\/td>\n",
       "      <td>6.16<\/td>\n",
       "      <td>5.86<\/td>\n",
       "      <td>6.37<\/td>\n",
       "      <td>5.86<\/td>\n",
       "      <td>21.3<\/td>\n",
       "      <td>5.33<\/td>\n",
       "      <td>8.824<\/td>\n",
       "      <td>11.2896<\/td>\n",
       "      <td>55<\/td>\n",
       "      <td>0.039474<\/td>\n",
       "      <td>0<\/td>\n",
       "      <td>0<\/td>\n",
       "      <td>0<\/td>\n",
       "      <td>0<\/td>\n",
       "    <\/tr>\n",
       "    <tr>\n",
       "      <th>...<\/th>\n",
       "      <td>...<\/td>\n",
       "      <td>...<\/td>\n",
       "      <td>...<\/td>\n",
       "      <td>...<\/td>\n",
       "      <td>...<\/td>\n",
       "      <td>...<\/td>\n",
       "      <td>...<\/td>\n",
       "      <td>...<\/td>\n",
       "      <td>...<\/td>\n",
       "      <td>...<\/td>\n",
       "      <td>...<\/td>\n",
       "      <td>...<\/td>\n",
       "      <td>...<\/td>\n",
       "      <td>...<\/td>\n",
       "      <td>...<\/td>\n",
       "      <td>...<\/td>\n",
       "      <td>...<\/td>\n",
       "      <td>...<\/td>\n",
       "      <td>...<\/td>\n",
       "      <td>...<\/td>\n",
       "    <\/tr>\n",
       "    <tr>\n",
       "      <th>501<\/th>\n",
       "      <td>22.4<\/td>\n",
       "      <td>0.06263<\/td>\n",
       "      <td>41.93<\/td>\n",
       "      <td>0.573<\/td>\n",
       "      <td>6.593<\/td>\n",
       "      <td>69.1<\/td>\n",
       "      <td>2.64<\/td>\n",
       "      <td>2.45<\/td>\n",
       "      <td>2.76<\/td>\n",
       "      <td>2.06<\/td>\n",
       "      <td>19.0<\/td>\n",
       "      <td>9.67<\/td>\n",
       "      <td>9.348<\/td>\n",
       "      <td>12.1792<\/td>\n",
       "      <td>27<\/td>\n",
       "      <td>0.056006<\/td>\n",
       "      <td>1<\/td>\n",
       "      <td>0<\/td>\n",
       "      <td>0<\/td>\n",
       "      <td>0<\/td>\n",
       "    <\/tr>\n",
       "    <tr>\n",
       "      <th>502<\/th>\n",
       "      <td>20.6<\/td>\n",
       "      <td>0.04527<\/td>\n",
       "      <td>41.93<\/td>\n",
       "      <td>0.573<\/td>\n",
       "      <td>6.120<\/td>\n",
       "      <td>76.7<\/td>\n",
       "      <td>2.44<\/td>\n",
       "      <td>2.11<\/td>\n",
       "      <td>2.46<\/td>\n",
       "      <td>2.14<\/td>\n",
       "      <td>19.0<\/td>\n",
       "      <td>9.08<\/td>\n",
       "      <td>6.612<\/td>\n",
       "      <td>13.1648<\/td>\n",
       "      <td>20<\/td>\n",
       "      <td>0.059903<\/td>\n",
       "      <td>1<\/td>\n",
       "      <td>0<\/td>\n",
       "      <td>0<\/td>\n",
       "      <td>1<\/td>\n",
       "    <\/tr>\n",
       "    <tr>\n",
       "      <th>503<\/th>\n",
       "      <td>23.9<\/td>\n",
       "      <td>0.06076<\/td>\n",
       "      <td>41.93<\/td>\n",
       "      <td>0.573<\/td>\n",
       "      <td>6.976<\/td>\n",
       "      <td>91.0<\/td>\n",
       "      <td>2.34<\/td>\n",
       "      <td>2.06<\/td>\n",
       "      <td>2.29<\/td>\n",
       "      <td>1.98<\/td>\n",
       "      <td>19.0<\/td>\n",
       "      <td>5.64<\/td>\n",
       "      <td>5.478<\/td>\n",
       "      <td>12.1912<\/td>\n",
       "      <td>31<\/td>\n",
       "      <td>0.057572<\/td>\n",
       "      <td>0<\/td>\n",
       "      <td>1<\/td>\n",
       "      <td>0<\/td>\n",
       "      <td>0<\/td>\n",
       "    <\/tr>\n",
       "    <tr>\n",
       "      <th>504<\/th>\n",
       "      <td>22.0<\/td>\n",
       "      <td>0.10959<\/td>\n",
       "      <td>41.93<\/td>\n",
       "      <td>0.573<\/td>\n",
       "      <td>6.794<\/td>\n",
       "      <td>89.3<\/td>\n",
       "      <td>2.54<\/td>\n",
       "      <td>2.31<\/td>\n",
       "      <td>2.40<\/td>\n",
       "      <td>2.31<\/td>\n",
       "      <td>19.0<\/td>\n",
       "      <td>6.48<\/td>\n",
       "      <td>7.940<\/td>\n",
       "      <td>15.1760<\/td>\n",
       "      <td>47<\/td>\n",
       "      <td>0.060694<\/td>\n",
       "      <td>0<\/td>\n",
       "      <td>1<\/td>\n",
       "      <td>0<\/td>\n",
       "      <td>1<\/td>\n",
       "    <\/tr>\n",
       "    <tr>\n",
       "      <th>505<\/th>\n",
       "      <td>19.0<\/td>\n",
       "      <td>0.04741<\/td>\n",
       "      <td>41.93<\/td>\n",
       "      <td>0.573<\/td>\n",
       "      <td>6.030<\/td>\n",
       "      <td>80.8<\/td>\n",
       "      <td>2.72<\/td>\n",
       "      <td>2.24<\/td>\n",
       "      <td>2.64<\/td>\n",
       "      <td>2.42<\/td>\n",
       "      <td>19.0<\/td>\n",
       "      <td>7.88<\/td>\n",
       "      <td>10.280<\/td>\n",
       "      <td>10.1520<\/td>\n",
       "      <td>45<\/td>\n",
       "      <td>0.060336<\/td>\n",
       "      <td>0<\/td>\n",
       "      <td>1<\/td>\n",
       "      <td>0<\/td>\n",
       "      <td>1<\/td>\n",
       "    <\/tr>\n",
       "  <\/tbody>\n",
       "<\/table>\n",
       "<p>498 rows × 20 columns<\/p>\n",
       "<\/div>"
      ]
     },
     "metadata":{
      
     },
     "output_type":"display_data"
    }
   ],
   "metadata":{
    "datalore":{
     "node_id":"JbXjg8DgtomKyH2HUAJfat",
     "type":"CODE",
     "hide_input_from_viewers":true,
     "hide_output_from_viewers":true
    }
   }
  },
  {
   "cell_type":"code",
   "source":[
    "scaler = StandardScaler()\n",
    "\n",
    "y = df1['price'].values\n",
    "df1.drop('price', axis=1, inplace=True)\n",
    "x = df1.iloc[:, :]\n",
    "x_sts = x\n",
    "x_sts = scaler.fit_transform(x_sts)\n",
    "x_sts"
   ],
   "execution_count":6,
   "outputs":[
    {
     "data":{
      "text\/html":[
       
      ]
     },
     "metadata":{
      
     },
     "output_type":"display_data"
    }
   ],
   "metadata":{
    "datalore":{
     "node_id":"l5kYQKv69jpfv6bA47faiO",
     "type":"CODE",
     "hide_input_from_viewers":true,
     "hide_output_from_viewers":true
    }
   }
  },
  {
   "cell_type":"code",
   "source":[
    "scaler = MinMaxScaler()\n",
    "\n",
    "# y = df1['price'].values\n",
    "# df1.drop('price', axis=1, inplace=True)\n",
    "x_minmax = df1.iloc[:, :]\n",
    "\n",
    "x_minmax = scaler.fit_transform(x_minmax)\n",
    "x_minmax"
   ],
   "execution_count":7,
   "outputs":[
    {
     "data":{
      "text\/html":[
       
      ]
     },
     "metadata":{
      
     },
     "output_type":"display_data"
    }
   ],
   "metadata":{
    "datalore":{
     "node_id":"EiL2vueDkFl2dTYU6N69f9",
     "type":"CODE",
     "hide_input_from_viewers":true,
     "hide_output_from_viewers":true
    }
   }
  },
  {
   "cell_type":"code",
   "source":[
    
   ],
   "execution_count":null,
   "outputs":[
    
   ],
   "metadata":{
    "datalore":{
     "node_id":"WDaDezcGVEys8ETKK1D9vW",
     "type":"CODE",
     "hide_input_from_viewers":true,
     "hide_output_from_viewers":true
    }
   }
  },
  {
   "cell_type":"markdown",
   "source":[
    "# MODEL"
   ],
   "attachments":{
    
   },
   "metadata":{
    "datalore":{
     "node_id":"MODEL",
     "type":"MD",
     "hide_input_from_viewers":false,
     "hide_output_from_viewers":false,
     "sheet_delimiter":true
    }
   }
  },
  {
   "cell_type":"code",
   "source":[
    "from sklearn.model_selection import train_test_split, cross_val_score, GridSearchCV\n",
    "from sklearn.metrics import accuracy_score\n",
    "from sklearn.ensemble import RandomForestRegressor, GradientBoostingRegressor"
   ],
   "execution_count":8,
   "outputs":[
    
   ],
   "metadata":{
    "datalore":{
     "node_id":"lQXKavi3jxWzfJNRr47RCT",
     "type":"CODE",
     "hide_input_from_viewers":true,
     "hide_output_from_viewers":true
    }
   }
  },
  {
   "cell_type":"code",
   "source":[
    "# Primeiro, usaremos o x com a normalização do StandardScaler\n",
    "x_train, x_test, y_train, y_test = train_test_split(x_sts, y, train_size=0.7)"
   ],
   "execution_count":9,
   "outputs":[
    
   ],
   "metadata":{
    "datalore":{
     "node_id":"x6BdBYDvqT1BweOFoDvgDu",
     "type":"CODE",
     "hide_input_from_viewers":true,
     "hide_output_from_viewers":true
    }
   }
  },
  {
   "cell_type":"code",
   "source":[
    "param_grid_f = {\n",
    "    'n_jobs':[-1],\n",
    "    'max_features':['auto', 'sqrt', 'log2'],\n",
    "    'max_depth':[5, 7, 8, 10],\n",
    "    'n_estimators':[100, 200, 500, 1000],\n",
    "    'criterion':['squared_error', 'absolute_error', 'poisson'],\n",
    "}\n",
    "\n",
    "param_grid_g = {\n",
    "    'loss':['squared_error', 'absolute_error', 'huber', 'quantile'],\n",
    "    'n_estimators':[100, 200, 500, 1000],\n",
    "    'learning_rate':[0.5, 0.1, 0.05, 0.01],\n",
    "    'criterion':['friedman_mse', 'squared_error', 'mse'],\n",
    "    'max_features':['auto', 'sqrt', 'log2'],\n",
    "    'max_depth':[3, 5, 7, 8, 10],\n",
    "}\n"
   ],
   "execution_count":10,
   "outputs":[
    
   ],
   "metadata":{
    "datalore":{
     "node_id":"CpIP2AIS7jvFlTxyGDlznM",
     "type":"CODE",
     "hide_input_from_viewers":true,
     "hide_output_from_viewers":true
    }
   }
  },
  {
   "cell_type":"code",
   "source":[
    "forest = RandomForestRegressor(n_jobs=-1, max_features='sqrt', criterion='squared_error', max_depth=7, n_estimators=200)\n",
    "\n",
    "forest.fit(x_train, y_train)\n",
    "forest.predict(x_test)\n",
    "forest.score(x_test, y_test)"
   ],
   "execution_count":11,
   "outputs":[
    {
     "data":{
      "text\/plain":[
       "0.8179547090953537"
      ]
     },
     "metadata":{
      
     },
     "output_type":"display_data"
    }
   ],
   "metadata":{
    "datalore":{
     "node_id":"EtpPuc2boMc6GqEOYAt1mt",
     "type":"CODE",
     "hide_input_from_viewers":true,
     "hide_output_from_viewers":true
    }
   }
  },
  {
   "cell_type":"code",
   "source":[
    "gradient = GradientBoostingRegressor(loss='squared_error', n_estimators=500, max_features='sqrt', learning_rate=0.05)\n",
    "\n",
    "gradient.fit(x_train, y_train)\n",
    "gradient.predict(x_test)\n",
    "gradient.score(x_test, y_test)"
   ],
   "execution_count":12,
   "outputs":[
    {
     "data":{
      "text\/plain":[
       "0.8703997001832577"
      ]
     },
     "metadata":{
      
     },
     "output_type":"display_data"
    }
   ],
   "metadata":{
    "datalore":{
     "node_id":"2HIp6fQneqHdXlzQXvqrzv",
     "type":"CODE",
     "hide_input_from_viewers":true,
     "hide_output_from_viewers":true
    }
   }
  },
  {
   "cell_type":"code",
   "source":[
    "# grid = GridSearchCV(forest, param_grid=param_grid_f)\n",
    "# grid.fit(x_train, y_train)\n",
    "# grid.predict(x_test)\n",
    "\n",
    "# print(grid.best_params_)\n",
    "# print(grid.best_score_)"
   ],
   "execution_count":13,
   "outputs":[
    
   ],
   "metadata":{
    "datalore":{
     "node_id":"U80Md4PTtfFjiUvYFwReCt",
     "type":"CODE",
     "hide_input_from_viewers":true,
     "hide_output_from_viewers":true
    }
   }
  },
  {
   "cell_type":"code",
   "source":[
    "forest = RandomForestRegressor(n_jobs=-1, max_features='log2', criterion='squared_error', max_depth=10, n_estimators=1000)\n",
    "\n",
    "forest.fit(x_train, y_train)\n",
    "forest.predict(x_test)\n",
    "forest.score(x_test, y_test)"
   ],
   "execution_count":14,
   "outputs":[
    {
     "data":{
      "text\/plain":[
       "0.831288785339276"
      ]
     },
     "metadata":{
      
     },
     "output_type":"display_data"
    }
   ],
   "metadata":{
    "datalore":{
     "node_id":"HRbsxDih7O5u3sgHaOZTQB",
     "type":"CODE",
     "hide_input_from_viewers":true,
     "hide_output_from_viewers":true
    }
   }
  },
  {
   "cell_type":"code",
   "source":[
    "# grid = GridSearchCV(gradient, param_grid=param_grid_g, n_jobs=-1)\n",
    "# grid.fit(x_train, y_train)\n",
    "# grid.predict(x_test)\n",
    "\n",
    "# print(grid.best_params_)\n",
    "# print(grid.best_score_)"
   ],
   "execution_count":15,
   "outputs":[
    
   ],
   "metadata":{
    "datalore":{
     "node_id":"05eopZmcWPA3itrD37XrOA",
     "type":"CODE",
     "hide_input_from_viewers":true,
     "hide_output_from_viewers":true
    }
   }
  },
  {
   "cell_type":"code",
   "source":[
    "# loss = ['squared_error', 'absolute_error', 'huber', 'quantile']\n",
    "# n_estimators = [200, 500]\n",
    "# learning_rate = [0.05, 0.01]\n",
    "# criterion = ['friedman_mse', 'squared_error']\n",
    "# max_features = ['sqrt', 'log2']\n",
    "# max_depth = [5, 7]\n",
    "# i = 1\n",
    "\n",
    "# max_iter = len(loss) * len(n_estimators) * len(learning_rate) * len(criterion) * len(max_features) * len(max_depth)\n",
    "\n",
    "# for l_rate in learning_rate:\n",
    "#     for los in loss:\n",
    "#         for max_d in max_depth:\n",
    "#             for n_est in n_estimators:\n",
    "#                 for max_f in max_features:\n",
    "#                     for crit in criterion:\n",
    "#                         gradient = GradientBoostingRegressor(n_estimators=n_est, max_depth=max_d, max_features=max_f, criterion=crit, loss=los)\n",
    "#                         gradient.fit(x_train, y_train)\n",
    "#                         gradient.predict(x_test)\n",
    "#                         print('\\niter: %i \/ %i \\t Parameters: \\n n_estimators = %d \\n learning_rate = %.2f \\n loss = %s \\n criterion = %s \\n max_features = %s \\n max_depth = %d' % (i, max_iter, n_est, l_rate, los, crit, max_f, max_d))\n",
    "#                         i += 1\n",
    "#                         print(gradient.score(x_test, y_test))"
   ],
   "execution_count":16,
   "outputs":[
    
   ],
   "metadata":{
    "datalore":{
     "node_id":"RiyNcQHVl9F4pzgPn9z3eQ",
     "type":"CODE",
     "hide_input_from_viewers":true,
     "hide_output_from_viewers":true
    }
   }
  },
  {
   "cell_type":"code",
   "source":[
    "gradient = GradientBoostingRegressor(n_estimators=500, criterion='squared_error', max_depth=5, max_features='log2', loss='squared_error', learning_rate=0.05)\n",
    "gradient.fit(x_train, y_train)\n",
    "\n",
    "gradient.predict(x_test)\n",
    "gradient.score(x_test, y_test)"
   ],
   "execution_count":17,
   "outputs":[
    {
     "data":{
      "text\/plain":[
       "0.8597812850823642"
      ]
     },
     "metadata":{
      
     },
     "output_type":"display_data"
    }
   ],
   "metadata":{
    "datalore":{
     "node_id":"8N6nOECoAPD8SJiKH9DmS4",
     "type":"CODE",
     "hide_input_from_viewers":true,
     "hide_output_from_viewers":true
    }
   }
  },
  {
   "cell_type":"code",
   "source":[
    "\n",
    "print('sorted: ', sorted(gradient.feature_importances_, reverse=True))"
   ],
   "execution_count":18,
   "outputs":[
    {
     "name":"stdout",
     "text":[
      "sorted:  [0.28207932151319903, 0.22175345883104325, 0.07577179916369906, 0.06536980436521421, 0.05923184918455916, 0.05808276525341425, 0.041474869669857, 0.03660074498417651, 0.035421228339897685, 0.03499647998170853, 0.02704528339540148, 0.01904183739229695, 0.01650081469692559, 0.013708027117988594, 0.007481947399053735, 0.002827739872678754, 0.0012209770777688194, 0.0007860816204915385, 0.0006049701406257844]\n"
     ],
     "output_type":"stream"
    }
   ],
   "metadata":{
    "datalore":{
     "node_id":"fI4dKqkd1UtFP0yWMBI6TA",
     "type":"CODE",
     "hide_input_from_viewers":true,
     "hide_output_from_viewers":true
    }
   }
  },
  {
   "cell_type":"code",
   "source":[
    "fetaure_imp = gradient.feature_importances_ * 100\n",
    "fetaure_imp"
   ],
   "execution_count":19,
   "outputs":[
    {
     "data":{
      "text\/html":[
       
      ]
     },
     "metadata":{
      
     },
     "output_type":"display_data"
    }
   ],
   "metadata":{
    "datalore":{
     "node_id":"Qs59wFSZMTVKeSaTrLn6vb",
     "type":"CODE",
     "hide_input_from_viewers":true,
     "hide_output_from_viewers":true
    }
   }
  },
  {
   "cell_type":"code",
   "source":[
    "x2 = x.iloc[:, [0, 1, 2, 3, 4, 5, 6, 7, 8, 9, 10, 11, 12, 14, 18]]\n",
    "x2_minmax = scaler.fit_transform(x2)\n",
    "x2_minmax"
   ],
   "execution_count":20,
   "outputs":[
    {
     "data":{
      "text\/html":[
       
      ]
     },
     "metadata":{
      
     },
     "output_type":"display_data"
    }
   ],
   "metadata":{
    "datalore":{
     "node_id":"FtYketeipWjIqnZOYruqUT",
     "type":"CODE",
     "hide_input_from_viewers":true,
     "hide_output_from_viewers":true
    }
   }
  },
  {
   "cell_type":"code",
   "source":[
    "x_train, x_test, y_train, y_test = train_test_split(x2_minmax, y, train_size=0.7)"
   ],
   "execution_count":21,
   "outputs":[
    
   ],
   "metadata":{
    "datalore":{
     "node_id":"S01MIYCK8muoxKoc2yJciv",
     "type":"CODE",
     "hide_input_from_viewers":true,
     "hide_output_from_viewers":true
    }
   }
  },
  {
   "cell_type":"code",
   "source":[
    "forest = RandomForestRegressor(n_jobs=-1, max_features='log2', criterion='squared_error', max_depth=10, n_estimators=1000)\n",
    "\n",
    "forest.fit(x_train, y_train)\n",
    "forest.predict(x_test)\n",
    "forest.score(x_test, y_test)"
   ],
   "execution_count":22,
   "outputs":[
    {
     "data":{
      "text\/plain":[
       "0.8066867094738241"
      ]
     },
     "metadata":{
      
     },
     "output_type":"display_data"
    }
   ],
   "metadata":{
    "datalore":{
     "node_id":"d5YwBRXWAlGx4r5dSpsmLN",
     "type":"CODE",
     "hide_input_from_viewers":true,
     "hide_output_from_viewers":true
    }
   }
  },
  {
   "cell_type":"code",
   "source":[
    "# gradient = GradientBoostingRegressor(\n",
    "#     n_estimators=750, \n",
    "#     criterion='squared_error', \n",
    "#     max_depth=5, \n",
    "#     max_features='log2', \n",
    "#     loss='squared_error', \n",
    "#     learning_rate=0.01,\n",
    "#     warm_start=True,\n",
    "    \n",
    "# )\n",
    "\n",
    "gradient = GradientBoostingRegressor(\n",
    "    n_estimators=500,\n",
    "    learning_rate=0.105,\n",
    "    max_features='log2',\n",
    "    max_depth=5,\n",
    "    min_samples_split=25,\n",
    "    min_samples_leaf=15,\n",
    "    min_impurity_decrease=0.001,\n",
    "    min_weight_fraction_leaf=0.001,\n",
    ")\n",
    "\n",
    "gradient.fit(x_train, y_train)\n",
    "\n",
    "gradient.predict(x_test)\n",
    "print('Accuracy: %.2f' % (gradient.score(x_test, y_test)*100), '%')"
   ],
   "execution_count":23,
   "outputs":[
    {
     "name":"stdout",
     "text":[
      "Accuracy: 88.17 %\n"
     ],
     "output_type":"stream"
    }
   ],
   "metadata":{
    "datalore":{
     "node_id":"EXcGavmMoBvY8ywRSHSv0T",
     "type":"CODE",
     "hide_input_from_viewers":true,
     "hide_output_from_viewers":true
    }
   }
  },
  {
   "cell_type":"code",
   "source":[
    
   ],
   "execution_count":null,
   "outputs":[
    
   ],
   "metadata":{
    "datalore":{
     "node_id":"BwVt1Ip3sbgjU1Jvdzgm5D",
     "type":"CODE",
     "hide_input_from_viewers":true,
     "hide_output_from_viewers":true
    }
   }
  }
 ],
 "metadata":{
  "kernelspec":{
   "display_name":"Python",
   "language":"python",
   "name":"python"
  },
  "datalore":{
   "computation_mode":"REACTIVE",
   "package_manager":"pip",
   "base_environment":"default",
   "packages":[
    {
     "name":"featuretools",
     "version":"1.12.0",
     "source":"PIP"
    }
   ],
   "report_row_ids":[
    
   ],
   "version":2
  }
 },
 "nbformat":4,
 "nbformat_minor":4
}