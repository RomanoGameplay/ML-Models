{
 "cells":[
  {
   "cell_type":"code",
   "source":[
    "import pandas as pd\n",
    "from treatment_data import *\n",
    "from sklearn.model_selection import train_test_split\n",
    "from sklearn.pipeline import Pipeline\n",
    "from sklearn.naive_bayes import GaussianNB\n",
    "from sklearn.preprocessing import StandardScaler\n",
    "from sklearn.preprocessing import MinMaxScaler\n",
    "from sklearn.metrics import mean_absolute_error\n",
    "import sklearn.metrics as metrics"
   ],
   "execution_count":1,
   "outputs":[
    
   ],
   "metadata":{
    "datalore":{
     "node_id":"hfkRxoPMFT9ePCOxPQU6ZN",
     "type":"CODE",
     "hide_input_from_viewers":true,
     "hide_output_from_viewers":true
    }
   }
  },
  {
   "cell_type":"code",
   "source":[
    "df = pd.read_csv('riceClassification.csv')\n",
    "df.head()"
   ],
   "execution_count":2,
   "outputs":[
    {
     "data":{
      "text\/html":[
       "<div>\n",
       "<style scoped>\n",
       "    .dataframe tbody tr th:only-of-type {\n",
       "        vertical-align: middle;\n",
       "    }\n",
       "\n",
       "    .dataframe tbody tr th {\n",
       "        vertical-align: top;\n",
       "    }\n",
       "\n",
       "    .dataframe thead th {\n",
       "        text-align: right;\n",
       "    }\n",
       "<\/style>\n",
       "<table border=\"1\" class=\"dataframe\">\n",
       "  <thead>\n",
       "    <tr style=\"text-align: right;\">\n",
       "      <th><\/th>\n",
       "      <th>id<\/th>\n",
       "      <th>Area<\/th>\n",
       "      <th>MajorAxisLength<\/th>\n",
       "      <th>MinorAxisLength<\/th>\n",
       "      <th>Eccentricity<\/th>\n",
       "      <th>ConvexArea<\/th>\n",
       "      <th>EquivDiameter<\/th>\n",
       "      <th>Extent<\/th>\n",
       "      <th>Perimeter<\/th>\n",
       "      <th>Roundness<\/th>\n",
       "      <th>AspectRation<\/th>\n",
       "      <th>Class<\/th>\n",
       "    <\/tr>\n",
       "  <\/thead>\n",
       "  <tbody>\n",
       "    <tr>\n",
       "      <th>0<\/th>\n",
       "      <td>1<\/td>\n",
       "      <td>4537<\/td>\n",
       "      <td>92.229316<\/td>\n",
       "      <td>64.012769<\/td>\n",
       "      <td>0.719916<\/td>\n",
       "      <td>4677<\/td>\n",
       "      <td>76.004525<\/td>\n",
       "      <td>0.657536<\/td>\n",
       "      <td>273.085<\/td>\n",
       "      <td>0.764510<\/td>\n",
       "      <td>1.440796<\/td>\n",
       "      <td>1<\/td>\n",
       "    <\/tr>\n",
       "    <tr>\n",
       "      <th>1<\/th>\n",
       "      <td>2<\/td>\n",
       "      <td>2872<\/td>\n",
       "      <td>74.691881<\/td>\n",
       "      <td>51.400454<\/td>\n",
       "      <td>0.725553<\/td>\n",
       "      <td>3015<\/td>\n",
       "      <td>60.471018<\/td>\n",
       "      <td>0.713009<\/td>\n",
       "      <td>208.317<\/td>\n",
       "      <td>0.831658<\/td>\n",
       "      <td>1.453137<\/td>\n",
       "      <td>1<\/td>\n",
       "    <\/tr>\n",
       "    <tr>\n",
       "      <th>2<\/th>\n",
       "      <td>3<\/td>\n",
       "      <td>3048<\/td>\n",
       "      <td>76.293164<\/td>\n",
       "      <td>52.043491<\/td>\n",
       "      <td>0.731211<\/td>\n",
       "      <td>3132<\/td>\n",
       "      <td>62.296341<\/td>\n",
       "      <td>0.759153<\/td>\n",
       "      <td>210.012<\/td>\n",
       "      <td>0.868434<\/td>\n",
       "      <td>1.465950<\/td>\n",
       "      <td>1<\/td>\n",
       "    <\/tr>\n",
       "    <tr>\n",
       "      <th>3<\/th>\n",
       "      <td>4<\/td>\n",
       "      <td>3073<\/td>\n",
       "      <td>77.033628<\/td>\n",
       "      <td>51.928487<\/td>\n",
       "      <td>0.738639<\/td>\n",
       "      <td>3157<\/td>\n",
       "      <td>62.551300<\/td>\n",
       "      <td>0.783529<\/td>\n",
       "      <td>210.657<\/td>\n",
       "      <td>0.870203<\/td>\n",
       "      <td>1.483456<\/td>\n",
       "      <td>1<\/td>\n",
       "    <\/tr>\n",
       "    <tr>\n",
       "      <th>4<\/th>\n",
       "      <td>5<\/td>\n",
       "      <td>3693<\/td>\n",
       "      <td>85.124785<\/td>\n",
       "      <td>56.374021<\/td>\n",
       "      <td>0.749282<\/td>\n",
       "      <td>3802<\/td>\n",
       "      <td>68.571668<\/td>\n",
       "      <td>0.769375<\/td>\n",
       "      <td>230.332<\/td>\n",
       "      <td>0.874743<\/td>\n",
       "      <td>1.510000<\/td>\n",
       "      <td>1<\/td>\n",
       "    <\/tr>\n",
       "  <\/tbody>\n",
       "<\/table>\n",
       "<\/div>"
      ]
     },
     "metadata":{
      
     },
     "output_type":"display_data"
    }
   ],
   "metadata":{
    "datalore":{
     "node_id":"iRoc9Rum2D0jTPGMsj7PWl",
     "type":"CODE",
     "hide_input_from_viewers":true,
     "hide_output_from_viewers":true
    }
   }
  },
  {
   "cell_type":"code",
   "source":[
    "df.loc[df['id'].duplicated(keep=False)]"
   ],
   "execution_count":3,
   "outputs":[
    {
     "data":{
      "text\/html":[
       "<div>\n",
       "<style scoped>\n",
       "    .dataframe tbody tr th:only-of-type {\n",
       "        vertical-align: middle;\n",
       "    }\n",
       "\n",
       "    .dataframe tbody tr th {\n",
       "        vertical-align: top;\n",
       "    }\n",
       "\n",
       "    .dataframe thead th {\n",
       "        text-align: right;\n",
       "    }\n",
       "<\/style>\n",
       "<table border=\"1\" class=\"dataframe\">\n",
       "  <thead>\n",
       "    <tr style=\"text-align: right;\">\n",
       "      <th><\/th>\n",
       "      <th>id<\/th>\n",
       "      <th>Area<\/th>\n",
       "      <th>MajorAxisLength<\/th>\n",
       "      <th>MinorAxisLength<\/th>\n",
       "      <th>Eccentricity<\/th>\n",
       "      <th>ConvexArea<\/th>\n",
       "      <th>EquivDiameter<\/th>\n",
       "      <th>Extent<\/th>\n",
       "      <th>Perimeter<\/th>\n",
       "      <th>Roundness<\/th>\n",
       "      <th>AspectRation<\/th>\n",
       "      <th>Class<\/th>\n",
       "    <\/tr>\n",
       "  <\/thead>\n",
       "  <tbody>\n",
       "  <\/tbody>\n",
       "<\/table>\n",
       "<\/div>"
      ]
     },
     "metadata":{
      
     },
     "output_type":"display_data"
    }
   ],
   "metadata":{
    "datalore":{
     "node_id":"rleHUGQLLNp0O24sKjtU9F",
     "type":"CODE",
     "hide_input_from_viewers":true,
     "hide_output_from_viewers":true
    }
   }
  },
  {
   "cell_type":"code",
   "source":[
    "df.isnull().sum()"
   ],
   "execution_count":4,
   "outputs":[
    {
     "data":{
      "text\/html":[
       
      ]
     },
     "metadata":{
      
     },
     "output_type":"display_data"
    }
   ],
   "metadata":{
    "datalore":{
     "node_id":"NoTOOJoB0LzZsawzqaBlbv",
     "type":"CODE",
     "hide_input_from_viewers":true,
     "hide_output_from_viewers":true
    }
   }
  },
  {
   "cell_type":"code",
   "source":[
    "df.drop('id', axis=1, inplace=True)\n",
    "df.head()"
   ],
   "execution_count":5,
   "outputs":[
    {
     "data":{
      "text\/html":[
       "<div>\n",
       "<style scoped>\n",
       "    .dataframe tbody tr th:only-of-type {\n",
       "        vertical-align: middle;\n",
       "    }\n",
       "\n",
       "    .dataframe tbody tr th {\n",
       "        vertical-align: top;\n",
       "    }\n",
       "\n",
       "    .dataframe thead th {\n",
       "        text-align: right;\n",
       "    }\n",
       "<\/style>\n",
       "<table border=\"1\" class=\"dataframe\">\n",
       "  <thead>\n",
       "    <tr style=\"text-align: right;\">\n",
       "      <th><\/th>\n",
       "      <th>Area<\/th>\n",
       "      <th>MajorAxisLength<\/th>\n",
       "      <th>MinorAxisLength<\/th>\n",
       "      <th>Eccentricity<\/th>\n",
       "      <th>ConvexArea<\/th>\n",
       "      <th>EquivDiameter<\/th>\n",
       "      <th>Extent<\/th>\n",
       "      <th>Perimeter<\/th>\n",
       "      <th>Roundness<\/th>\n",
       "      <th>AspectRation<\/th>\n",
       "      <th>Class<\/th>\n",
       "    <\/tr>\n",
       "  <\/thead>\n",
       "  <tbody>\n",
       "    <tr>\n",
       "      <th>0<\/th>\n",
       "      <td>4537<\/td>\n",
       "      <td>92.229316<\/td>\n",
       "      <td>64.012769<\/td>\n",
       "      <td>0.719916<\/td>\n",
       "      <td>4677<\/td>\n",
       "      <td>76.004525<\/td>\n",
       "      <td>0.657536<\/td>\n",
       "      <td>273.085<\/td>\n",
       "      <td>0.764510<\/td>\n",
       "      <td>1.440796<\/td>\n",
       "      <td>1<\/td>\n",
       "    <\/tr>\n",
       "    <tr>\n",
       "      <th>1<\/th>\n",
       "      <td>2872<\/td>\n",
       "      <td>74.691881<\/td>\n",
       "      <td>51.400454<\/td>\n",
       "      <td>0.725553<\/td>\n",
       "      <td>3015<\/td>\n",
       "      <td>60.471018<\/td>\n",
       "      <td>0.713009<\/td>\n",
       "      <td>208.317<\/td>\n",
       "      <td>0.831658<\/td>\n",
       "      <td>1.453137<\/td>\n",
       "      <td>1<\/td>\n",
       "    <\/tr>\n",
       "    <tr>\n",
       "      <th>2<\/th>\n",
       "      <td>3048<\/td>\n",
       "      <td>76.293164<\/td>\n",
       "      <td>52.043491<\/td>\n",
       "      <td>0.731211<\/td>\n",
       "      <td>3132<\/td>\n",
       "      <td>62.296341<\/td>\n",
       "      <td>0.759153<\/td>\n",
       "      <td>210.012<\/td>\n",
       "      <td>0.868434<\/td>\n",
       "      <td>1.465950<\/td>\n",
       "      <td>1<\/td>\n",
       "    <\/tr>\n",
       "    <tr>\n",
       "      <th>3<\/th>\n",
       "      <td>3073<\/td>\n",
       "      <td>77.033628<\/td>\n",
       "      <td>51.928487<\/td>\n",
       "      <td>0.738639<\/td>\n",
       "      <td>3157<\/td>\n",
       "      <td>62.551300<\/td>\n",
       "      <td>0.783529<\/td>\n",
       "      <td>210.657<\/td>\n",
       "      <td>0.870203<\/td>\n",
       "      <td>1.483456<\/td>\n",
       "      <td>1<\/td>\n",
       "    <\/tr>\n",
       "    <tr>\n",
       "      <th>4<\/th>\n",
       "      <td>3693<\/td>\n",
       "      <td>85.124785<\/td>\n",
       "      <td>56.374021<\/td>\n",
       "      <td>0.749282<\/td>\n",
       "      <td>3802<\/td>\n",
       "      <td>68.571668<\/td>\n",
       "      <td>0.769375<\/td>\n",
       "      <td>230.332<\/td>\n",
       "      <td>0.874743<\/td>\n",
       "      <td>1.510000<\/td>\n",
       "      <td>1<\/td>\n",
       "    <\/tr>\n",
       "  <\/tbody>\n",
       "<\/table>\n",
       "<\/div>"
      ]
     },
     "metadata":{
      
     },
     "output_type":"display_data"
    }
   ],
   "metadata":{
    "datalore":{
     "node_id":"si1V7PiU0o7XXHYhT5ScE2",
     "type":"CODE",
     "hide_input_from_viewers":true,
     "hide_output_from_viewers":true
    }
   }
  },
  {
   "cell_type":"code",
   "source":[
    "x = df.iloc[:, 0:-1].values\n",
    "y = df.iloc[:, -1].values\n",
    "x"
   ],
   "execution_count":6,
   "outputs":[
    {
     "data":{
      "text\/html":[
       
      ]
     },
     "metadata":{
      
     },
     "output_type":"display_data"
    }
   ],
   "metadata":{
    "datalore":{
     "node_id":"ZS4v65wBIbJTXcyGy7NdqM",
     "type":"CODE",
     "hide_input_from_viewers":true,
     "hide_output_from_viewers":true
    }
   }
  },
  {
   "cell_type":"code",
   "source":[
    "x_train, x_test, y_train, y_test = train_test_split(x, y, test_size=0.7)"
   ],
   "execution_count":7,
   "outputs":[
    
   ],
   "metadata":{
    "datalore":{
     "node_id":"YtJf5i3SkjWwBKaJXXEL6R",
     "type":"CODE",
     "hide_input_from_viewers":true,
     "hide_output_from_viewers":true
    }
   }
  },
  {
   "cell_type":"code",
   "source":[
    "pipeline1 = Pipeline([\n",
    "    ('StandardScaler', StandardScaler()),\n",
    "    ('Naive Bayes', GaussianNB())\n",
    "\n",
    "])\n",
    "pipeline2 = Pipeline([\n",
    "    ('MinMaxScaler', MinMaxScaler()),\n",
    "    ('Naive Bayes', GaussianNB())\n",
    "])\n",
    "pipeline3 = Pipeline([\n",
    "    ('Naive Bayes', GaussianNB())\n",
    "])\n"
   ],
   "execution_count":8,
   "outputs":[
    
   ],
   "metadata":{
    "datalore":{
     "node_id":"0JL6FyJ8upsKqKrnLaAIfO",
     "type":"CODE",
     "hide_input_from_viewers":true,
     "hide_output_from_viewers":true
    }
   }
  },
  {
   "cell_type":"code",
   "source":[
    "pipeline1.fit(x_train, y_train)"
   ],
   "execution_count":10,
   "outputs":[
    {
     "data":{
      "text\/plain":[
       "Pipeline(steps=[('StandardScaler', StandardScaler()),\n",
       "                ('Naive Bayes', GaussianNB())])"
      ]
     },
     "metadata":{
      
     },
     "output_type":"display_data"
    }
   ],
   "metadata":{
    "datalore":{
     "node_id":"cYUxGcB3xWKUm8zzfy6U6M",
     "type":"CODE",
     "hide_input_from_viewers":true,
     "hide_output_from_viewers":true
    }
   }
  },
  {
   "cell_type":"code",
   "source":[
    "y_pred = pipeline1.predict(x_test)\n",
    "\n",
    "pipeline1.score(x_test, y_test)"
   ],
   "execution_count":11,
   "outputs":[
    {
     "data":{
      "text\/plain":[
       "0.9851531814611155"
      ]
     },
     "metadata":{
      
     },
     "output_type":"display_data"
    }
   ],
   "metadata":{
    "datalore":{
     "node_id":"qx7M2Xn0GamPsLy5SAWGuB",
     "type":"CODE",
     "hide_input_from_viewers":true,
     "hide_output_from_viewers":true
    }
   }
  },
  {
   "cell_type":"code",
   "source":[
    "mean_absolute_error(y_pred, y_test)"
   ],
   "execution_count":12,
   "outputs":[
    {
     "data":{
      "text\/plain":[
       "0.014846818538884525"
      ]
     },
     "metadata":{
      
     },
     "output_type":"display_data"
    }
   ],
   "metadata":{
    "datalore":{
     "node_id":"SKxWtTzHtpxvtJ8KUgQvYT",
     "type":"CODE",
     "hide_input_from_viewers":true,
     "hide_output_from_viewers":true
    }
   }
  },
  {
   "cell_type":"code",
   "source":[
    "pipeline2.fit(x_train, y_train)"
   ],
   "execution_count":13,
   "outputs":[
    {
     "data":{
      "text\/plain":[
       "Pipeline(steps=[('MinMaxScaler', MinMaxScaler()),\n",
       "                ('Naive Bayes', GaussianNB())])"
      ]
     },
     "metadata":{
      
     },
     "output_type":"display_data"
    }
   ],
   "metadata":{
    "datalore":{
     "node_id":"4laUMlr3eJG5XFaf52gehQ",
     "type":"CODE",
     "hide_input_from_viewers":true,
     "hide_output_from_viewers":true
    }
   }
  },
  {
   "cell_type":"code",
   "source":[
    "y_pred = pipeline2.predict(x_test)\n",
    "pipeline2.score(x_test, y_test)"
   ],
   "execution_count":14,
   "outputs":[
    {
     "data":{
      "text\/plain":[
       "0.9851531814611155"
      ]
     },
     "metadata":{
      
     },
     "output_type":"display_data"
    }
   ],
   "metadata":{
    "datalore":{
     "node_id":"YnBTh9aWjQowHYMtP8yXt9",
     "type":"CODE",
     "hide_input_from_viewers":true,
     "hide_output_from_viewers":true
    }
   }
  },
  {
   "cell_type":"code",
   "source":[
    "mean_absolute_error(y_pred, y_test)"
   ],
   "execution_count":15,
   "outputs":[
    {
     "data":{
      "text\/plain":[
       "0.014846818538884525"
      ]
     },
     "metadata":{
      
     },
     "output_type":"display_data"
    }
   ],
   "metadata":{
    "datalore":{
     "node_id":"SO4pLErmFf0C9Kw3chDiS7",
     "type":"CODE",
     "hide_input_from_viewers":true,
     "hide_output_from_viewers":true
    }
   }
  },
  {
   "cell_type":"code",
   "source":[
    "pipeline3.fit(x_train, y_train)"
   ],
   "execution_count":16,
   "outputs":[
    {
     "data":{
      "text\/plain":[
       "Pipeline(steps=[('Naive Bayes', GaussianNB())])"
      ]
     },
     "metadata":{
      
     },
     "output_type":"display_data"
    }
   ],
   "metadata":{
    "datalore":{
     "node_id":"XglgFQAUgveOfsRieNOqRu",
     "type":"CODE",
     "hide_input_from_viewers":true,
     "hide_output_from_viewers":true
    }
   }
  },
  {
   "cell_type":"code",
   "source":[
    "y_pred = pipeline3.predict(x_test)\n",
    "pipeline3.score(x_test, y_test)"
   ],
   "execution_count":17,
   "outputs":[
    {
     "data":{
      "text\/plain":[
       "0.9794186959937157"
      ]
     },
     "metadata":{
      
     },
     "output_type":"display_data"
    }
   ],
   "metadata":{
    "datalore":{
     "node_id":"TO9tTDcbdN2qyCVbHszXax",
     "type":"CODE",
     "hide_input_from_viewers":true,
     "hide_output_from_viewers":true
    }
   }
  },
  {
   "cell_type":"code",
   "source":[
    "mean_absolute_error(y_pred, y_test)"
   ],
   "execution_count":18,
   "outputs":[
    {
     "data":{
      "text\/plain":[
       "0.020581304006284367"
      ]
     },
     "metadata":{
      
     },
     "output_type":"display_data"
    }
   ],
   "metadata":{
    "datalore":{
     "node_id":"5KfvyGKkfDtccva9oC6Eeo",
     "type":"CODE",
     "hide_input_from_viewers":true,
     "hide_output_from_viewers":true
    }
   }
  },
  {
   "cell_type":"code",
   "source":[
    "from joblib import dump"
   ],
   "execution_count":19,
   "outputs":[
    
   ],
   "metadata":{
    "datalore":{
     "node_id":"WtUJvnV1EE11w8m6KfcZS7",
     "type":"CODE",
     "hide_input_from_viewers":true,
     "hide_output_from_viewers":true
    }
   }
  },
  {
   "cell_type":"code",
   "source":[
    "\n",
    "dump(pipeline1, 'first model.joblib')"
   ],
   "execution_count":20,
   "outputs":[
    {
     "data":{
      "text\/plain":[
       "['first model.joblib']"
      ]
     },
     "metadata":{
      
     },
     "output_type":"display_data"
    }
   ],
   "metadata":{
    "datalore":{
     "node_id":"hmcbhajxijRAB4UzXjGiV2",
     "type":"CODE",
     "hide_input_from_viewers":true,
     "hide_output_from_viewers":true
    }
   }
  },
  {
   "cell_type":"code",
   "source":[
    
   ],
   "execution_count":null,
   "outputs":[
    
   ],
   "metadata":{
    "datalore":{
     "node_id":"iyrYwPnWhWbm3Cs4gdUSIj",
     "type":"CODE",
     "hide_input_from_viewers":true,
     "hide_output_from_viewers":true
    }
   }
  }
 ],
 "metadata":{
  "kernelspec":{
   "display_name":"Python",
   "language":"python",
   "name":"python"
  },
  "datalore":{
   "computation_mode":"REACTIVE",
   "package_manager":"pip",
   "base_environment":"default",
   "packages":[
    
   ],
   "report_row_ids":[
    
   ],
   "version":2
  }
 },
 "nbformat":4,
 "nbformat_minor":4
}