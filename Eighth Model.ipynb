{
 "cells":[
  {
   "cell_type":"markdown",
   "source":[
    "# Functions"
   ],
   "attachments":{
    
   },
   "metadata":{
    "datalore":{
     "node_id":"Functions",
     "type":"MD",
     "hide_input_from_viewers":false,
     "hide_output_from_viewers":false,
     "sheet_delimiter":true
    }
   }
  },
  {
   "cell_type":"code",
   "source":[
    "def show_cm(model, y_test, pred):\n",
    "    from sklearn.metrics import confusion_matrix, ConfusionMatrixDisplay\n",
    "    \n",
    "    cm = confusion_matrix(y_test, pred, labels=model.classes_)\n",
    "    display = ConfusionMatrixDisplay(confusion_matrix=cm, display_labels=model.classes_)\n",
    "    display.plot()\n",
    "    plt.show()"
   ],
   "execution_count":1,
   "outputs":[
    
   ],
   "metadata":{
    "datalore":{
     "node_id":"0lIHT7aWXRmFDywb10zML1",
     "type":"CODE",
     "hide_input_from_viewers":true,
     "hide_output_from_viewers":true
    }
   }
  },
  {
   "cell_type":"code",
   "source":[
    
   ],
   "execution_count":null,
   "outputs":[
    
   ],
   "metadata":{
    "datalore":{
     "node_id":"zmP5f2ibggm5LSLMXg3asg",
     "type":"CODE",
     "hide_input_from_viewers":true,
     "hide_output_from_viewers":true
    }
   }
  },
  {
   "cell_type":"markdown",
   "source":[
    "# EDA"
   ],
   "attachments":{
    
   },
   "metadata":{
    "datalore":{
     "node_id":"EDA",
     "type":"MD",
     "hide_input_from_viewers":false,
     "hide_output_from_viewers":false,
     "sheet_delimiter":true
    }
   }
  },
  {
   "cell_type":"code",
   "source":[
    "import pandas as pd\n",
    "import matplotlib.pyplot as plt\n",
    "import seaborn as sns\n",
    "\n",
    "%matplotlib inline"
   ],
   "execution_count":2,
   "outputs":[
    
   ],
   "metadata":{
    "datalore":{
     "node_id":"yGr1MW7DDDsDU2jv0FCuC9",
     "type":"CODE",
     "hide_input_from_viewers":true,
     "hide_output_from_viewers":true
    }
   }
  },
  {
   "cell_type":"code",
   "source":[
    "data = pd.read_csv('house-votes-84.csv', engine='c')\n",
    "df = data.copy()"
   ],
   "execution_count":3,
   "outputs":[
    
   ],
   "metadata":{
    "datalore":{
     "node_id":"xrvE1i8XYcBjiNszR6wCP1",
     "type":"CODE",
     "hide_input_from_viewers":true,
     "hide_output_from_viewers":true
    }
   }
  },
  {
   "cell_type":"code",
   "source":[
    "df.info()"
   ],
   "execution_count":4,
   "outputs":[
    {
     "name":"stdout",
     "text":[
      "<class 'pandas.core.frame.DataFrame'>\n",
      "RangeIndex: 435 entries, 0 to 434\n",
      "Data columns (total 16 columns):\n",
      " #   Column            Non-Null Count  Dtype \n",
      "---  ------            --------------  ----- \n",
      " 0   party             435 non-null    object\n",
      " 1   infant            435 non-null    object\n",
      " 2   water             435 non-null    object\n",
      " 3   budget            435 non-null    object\n",
      " 4   physician         435 non-null    object\n",
      " 5   salvador          435 non-null    object\n",
      " 6   religious         435 non-null    object\n",
      " 7   satellite         435 non-null    object\n",
      " 8   aid               435 non-null    object\n",
      " 9   missile           435 non-null    object\n",
      " 10  immigration       435 non-null    object\n",
      " 11  synfuels          435 non-null    object\n",
      " 12  education         435 non-null    object\n",
      " 13  superfund         435 non-null    object\n",
      " 14  crime             435 non-null    object\n",
      " 15  dutyfree exports  435 non-null    object\n",
      "dtypes: object(16)\n",
      "memory usage: 54.5+ KB\n"
     ],
     "output_type":"stream"
    }
   ],
   "metadata":{
    "datalore":{
     "node_id":"BGccN7uFYWcKZydtz8QpgX",
     "type":"CODE",
     "hide_input_from_viewers":true,
     "hide_output_from_viewers":true
    }
   }
  },
  {
   "cell_type":"code",
   "source":[
    "df"
   ],
   "execution_count":5,
   "outputs":[
    {
     "data":{
      "text\/html":[
       "<div>\n",
       "<style scoped>\n",
       "    .dataframe tbody tr th:only-of-type {\n",
       "        vertical-align: middle;\n",
       "    }\n",
       "\n",
       "    .dataframe tbody tr th {\n",
       "        vertical-align: top;\n",
       "    }\n",
       "\n",
       "    .dataframe thead th {\n",
       "        text-align: right;\n",
       "    }\n",
       "<\/style>\n",
       "<table border=\"1\" class=\"dataframe\">\n",
       "  <thead>\n",
       "    <tr style=\"text-align: right;\">\n",
       "      <th><\/th>\n",
       "      <th>party<\/th>\n",
       "      <th>infant<\/th>\n",
       "      <th>water<\/th>\n",
       "      <th>budget<\/th>\n",
       "      <th>physician<\/th>\n",
       "      <th>salvador<\/th>\n",
       "      <th>religious<\/th>\n",
       "      <th>satellite<\/th>\n",
       "      <th>aid<\/th>\n",
       "      <th>missile<\/th>\n",
       "      <th>immigration<\/th>\n",
       "      <th>synfuels<\/th>\n",
       "      <th>education<\/th>\n",
       "      <th>superfund<\/th>\n",
       "      <th>crime<\/th>\n",
       "      <th>dutyfree exports<\/th>\n",
       "    <\/tr>\n",
       "  <\/thead>\n",
       "  <tbody>\n",
       "    <tr>\n",
       "      <th>0<\/th>\n",
       "      <td>republican<\/td>\n",
       "      <td>0<\/td>\n",
       "      <td>1<\/td>\n",
       "      <td>0<\/td>\n",
       "      <td>1<\/td>\n",
       "      <td>1<\/td>\n",
       "      <td>1<\/td>\n",
       "      <td>0<\/td>\n",
       "      <td>0<\/td>\n",
       "      <td>0<\/td>\n",
       "      <td>1<\/td>\n",
       "      <td>?<\/td>\n",
       "      <td>1<\/td>\n",
       "      <td>1<\/td>\n",
       "      <td>1<\/td>\n",
       "      <td>0<\/td>\n",
       "    <\/tr>\n",
       "    <tr>\n",
       "      <th>1<\/th>\n",
       "      <td>republican<\/td>\n",
       "      <td>0<\/td>\n",
       "      <td>1<\/td>\n",
       "      <td>0<\/td>\n",
       "      <td>1<\/td>\n",
       "      <td>1<\/td>\n",
       "      <td>1<\/td>\n",
       "      <td>0<\/td>\n",
       "      <td>0<\/td>\n",
       "      <td>0<\/td>\n",
       "      <td>0<\/td>\n",
       "      <td>0<\/td>\n",
       "      <td>1<\/td>\n",
       "      <td>1<\/td>\n",
       "      <td>1<\/td>\n",
       "      <td>0<\/td>\n",
       "    <\/tr>\n",
       "    <tr>\n",
       "      <th>2<\/th>\n",
       "      <td>democrat<\/td>\n",
       "      <td>?<\/td>\n",
       "      <td>1<\/td>\n",
       "      <td>1<\/td>\n",
       "      <td>?<\/td>\n",
       "      <td>1<\/td>\n",
       "      <td>1<\/td>\n",
       "      <td>0<\/td>\n",
       "      <td>0<\/td>\n",
       "      <td>0<\/td>\n",
       "      <td>0<\/td>\n",
       "      <td>1<\/td>\n",
       "      <td>0<\/td>\n",
       "      <td>1<\/td>\n",
       "      <td>1<\/td>\n",
       "      <td>0<\/td>\n",
       "    <\/tr>\n",
       "    <tr>\n",
       "      <th>3<\/th>\n",
       "      <td>democrat<\/td>\n",
       "      <td>0<\/td>\n",
       "      <td>1<\/td>\n",
       "      <td>1<\/td>\n",
       "      <td>0<\/td>\n",
       "      <td>?<\/td>\n",
       "      <td>1<\/td>\n",
       "      <td>0<\/td>\n",
       "      <td>0<\/td>\n",
       "      <td>0<\/td>\n",
       "      <td>0<\/td>\n",
       "      <td>1<\/td>\n",
       "      <td>0<\/td>\n",
       "      <td>1<\/td>\n",
       "      <td>0<\/td>\n",
       "      <td>0<\/td>\n",
       "    <\/tr>\n",
       "    <tr>\n",
       "      <th>4<\/th>\n",
       "      <td>democrat<\/td>\n",
       "      <td>1<\/td>\n",
       "      <td>1<\/td>\n",
       "      <td>1<\/td>\n",
       "      <td>0<\/td>\n",
       "      <td>1<\/td>\n",
       "      <td>1<\/td>\n",
       "      <td>0<\/td>\n",
       "      <td>0<\/td>\n",
       "      <td>0<\/td>\n",
       "      <td>0<\/td>\n",
       "      <td>1<\/td>\n",
       "      <td>?<\/td>\n",
       "      <td>1<\/td>\n",
       "      <td>1<\/td>\n",
       "      <td>1<\/td>\n",
       "    <\/tr>\n",
       "    <tr>\n",
       "      <th>...<\/th>\n",
       "      <td>...<\/td>\n",
       "      <td>...<\/td>\n",
       "      <td>...<\/td>\n",
       "      <td>...<\/td>\n",
       "      <td>...<\/td>\n",
       "      <td>...<\/td>\n",
       "      <td>...<\/td>\n",
       "      <td>...<\/td>\n",
       "      <td>...<\/td>\n",
       "      <td>...<\/td>\n",
       "      <td>...<\/td>\n",
       "      <td>...<\/td>\n",
       "      <td>...<\/td>\n",
       "      <td>...<\/td>\n",
       "      <td>...<\/td>\n",
       "      <td>...<\/td>\n",
       "    <\/tr>\n",
       "    <tr>\n",
       "      <th>430<\/th>\n",
       "      <td>republican<\/td>\n",
       "      <td>0<\/td>\n",
       "      <td>0<\/td>\n",
       "      <td>1<\/td>\n",
       "      <td>1<\/td>\n",
       "      <td>1<\/td>\n",
       "      <td>1<\/td>\n",
       "      <td>0<\/td>\n",
       "      <td>0<\/td>\n",
       "      <td>1<\/td>\n",
       "      <td>1<\/td>\n",
       "      <td>0<\/td>\n",
       "      <td>1<\/td>\n",
       "      <td>1<\/td>\n",
       "      <td>1<\/td>\n",
       "      <td>0<\/td>\n",
       "    <\/tr>\n",
       "    <tr>\n",
       "      <th>431<\/th>\n",
       "      <td>democrat<\/td>\n",
       "      <td>0<\/td>\n",
       "      <td>0<\/td>\n",
       "      <td>1<\/td>\n",
       "      <td>0<\/td>\n",
       "      <td>0<\/td>\n",
       "      <td>0<\/td>\n",
       "      <td>1<\/td>\n",
       "      <td>1<\/td>\n",
       "      <td>1<\/td>\n",
       "      <td>1<\/td>\n",
       "      <td>0<\/td>\n",
       "      <td>0<\/td>\n",
       "      <td>0<\/td>\n",
       "      <td>0<\/td>\n",
       "      <td>0<\/td>\n",
       "    <\/tr>\n",
       "    <tr>\n",
       "      <th>432<\/th>\n",
       "      <td>republican<\/td>\n",
       "      <td>0<\/td>\n",
       "      <td>?<\/td>\n",
       "      <td>0<\/td>\n",
       "      <td>1<\/td>\n",
       "      <td>1<\/td>\n",
       "      <td>1<\/td>\n",
       "      <td>0<\/td>\n",
       "      <td>0<\/td>\n",
       "      <td>0<\/td>\n",
       "      <td>0<\/td>\n",
       "      <td>1<\/td>\n",
       "      <td>1<\/td>\n",
       "      <td>1<\/td>\n",
       "      <td>1<\/td>\n",
       "      <td>0<\/td>\n",
       "    <\/tr>\n",
       "    <tr>\n",
       "      <th>433<\/th>\n",
       "      <td>republican<\/td>\n",
       "      <td>0<\/td>\n",
       "      <td>0<\/td>\n",
       "      <td>0<\/td>\n",
       "      <td>1<\/td>\n",
       "      <td>1<\/td>\n",
       "      <td>1<\/td>\n",
       "      <td>?<\/td>\n",
       "      <td>?<\/td>\n",
       "      <td>?<\/td>\n",
       "      <td>?<\/td>\n",
       "      <td>0<\/td>\n",
       "      <td>1<\/td>\n",
       "      <td>1<\/td>\n",
       "      <td>1<\/td>\n",
       "      <td>0<\/td>\n",
       "    <\/tr>\n",
       "    <tr>\n",
       "      <th>434<\/th>\n",
       "      <td>republican<\/td>\n",
       "      <td>0<\/td>\n",
       "      <td>1<\/td>\n",
       "      <td>0<\/td>\n",
       "      <td>1<\/td>\n",
       "      <td>1<\/td>\n",
       "      <td>1<\/td>\n",
       "      <td>0<\/td>\n",
       "      <td>0<\/td>\n",
       "      <td>0<\/td>\n",
       "      <td>1<\/td>\n",
       "      <td>0<\/td>\n",
       "      <td>1<\/td>\n",
       "      <td>1<\/td>\n",
       "      <td>1<\/td>\n",
       "      <td>?<\/td>\n",
       "    <\/tr>\n",
       "  <\/tbody>\n",
       "<\/table>\n",
       "<p>435 rows × 16 columns<\/p>\n",
       "<\/div>"
      ]
     },
     "metadata":{
      
     },
     "output_type":"display_data"
    }
   ],
   "metadata":{
    "datalore":{
     "node_id":"XP4Zw4Gy46vDtrAzg0KRo8",
     "type":"CODE",
     "hide_input_from_viewers":true,
     "hide_output_from_viewers":true
    }
   }
  },
  {
   "cell_type":"code",
   "source":[
    "cols = df.columns\n",
    "for col in cols:\n",
    "    if col == 'party':\n",
    "        continue\n",
    "    else:\n",
    "        df[col].replace('?', df[col].mode()[0], inplace=True)\n",
    "        df[col] = df[col].astype(int)\n",
    "\n",
    "df"
   ],
   "execution_count":6,
   "outputs":[
    {
     "data":{
      "text\/html":[
       "<div>\n",
       "<style scoped>\n",
       "    .dataframe tbody tr th:only-of-type {\n",
       "        vertical-align: middle;\n",
       "    }\n",
       "\n",
       "    .dataframe tbody tr th {\n",
       "        vertical-align: top;\n",
       "    }\n",
       "\n",
       "    .dataframe thead th {\n",
       "        text-align: right;\n",
       "    }\n",
       "<\/style>\n",
       "<table border=\"1\" class=\"dataframe\">\n",
       "  <thead>\n",
       "    <tr style=\"text-align: right;\">\n",
       "      <th><\/th>\n",
       "      <th>party<\/th>\n",
       "      <th>infant<\/th>\n",
       "      <th>water<\/th>\n",
       "      <th>budget<\/th>\n",
       "      <th>physician<\/th>\n",
       "      <th>salvador<\/th>\n",
       "      <th>religious<\/th>\n",
       "      <th>satellite<\/th>\n",
       "      <th>aid<\/th>\n",
       "      <th>missile<\/th>\n",
       "      <th>immigration<\/th>\n",
       "      <th>synfuels<\/th>\n",
       "      <th>education<\/th>\n",
       "      <th>superfund<\/th>\n",
       "      <th>crime<\/th>\n",
       "      <th>dutyfree exports<\/th>\n",
       "    <\/tr>\n",
       "  <\/thead>\n",
       "  <tbody>\n",
       "    <tr>\n",
       "      <th>0<\/th>\n",
       "      <td>republican<\/td>\n",
       "      <td>0<\/td>\n",
       "      <td>1<\/td>\n",
       "      <td>0<\/td>\n",
       "      <td>1<\/td>\n",
       "      <td>1<\/td>\n",
       "      <td>1<\/td>\n",
       "      <td>0<\/td>\n",
       "      <td>0<\/td>\n",
       "      <td>0<\/td>\n",
       "      <td>1<\/td>\n",
       "      <td>0<\/td>\n",
       "      <td>1<\/td>\n",
       "      <td>1<\/td>\n",
       "      <td>1<\/td>\n",
       "      <td>0<\/td>\n",
       "    <\/tr>\n",
       "    <tr>\n",
       "      <th>1<\/th>\n",
       "      <td>republican<\/td>\n",
       "      <td>0<\/td>\n",
       "      <td>1<\/td>\n",
       "      <td>0<\/td>\n",
       "      <td>1<\/td>\n",
       "      <td>1<\/td>\n",
       "      <td>1<\/td>\n",
       "      <td>0<\/td>\n",
       "      <td>0<\/td>\n",
       "      <td>0<\/td>\n",
       "      <td>0<\/td>\n",
       "      <td>0<\/td>\n",
       "      <td>1<\/td>\n",
       "      <td>1<\/td>\n",
       "      <td>1<\/td>\n",
       "      <td>0<\/td>\n",
       "    <\/tr>\n",
       "    <tr>\n",
       "      <th>2<\/th>\n",
       "      <td>democrat<\/td>\n",
       "      <td>0<\/td>\n",
       "      <td>1<\/td>\n",
       "      <td>1<\/td>\n",
       "      <td>0<\/td>\n",
       "      <td>1<\/td>\n",
       "      <td>1<\/td>\n",
       "      <td>0<\/td>\n",
       "      <td>0<\/td>\n",
       "      <td>0<\/td>\n",
       "      <td>0<\/td>\n",
       "      <td>1<\/td>\n",
       "      <td>0<\/td>\n",
       "      <td>1<\/td>\n",
       "      <td>1<\/td>\n",
       "      <td>0<\/td>\n",
       "    <\/tr>\n",
       "    <tr>\n",
       "      <th>3<\/th>\n",
       "      <td>democrat<\/td>\n",
       "      <td>0<\/td>\n",
       "      <td>1<\/td>\n",
       "      <td>1<\/td>\n",
       "      <td>0<\/td>\n",
       "      <td>1<\/td>\n",
       "      <td>1<\/td>\n",
       "      <td>0<\/td>\n",
       "      <td>0<\/td>\n",
       "      <td>0<\/td>\n",
       "      <td>0<\/td>\n",
       "      <td>1<\/td>\n",
       "      <td>0<\/td>\n",
       "      <td>1<\/td>\n",
       "      <td>0<\/td>\n",
       "      <td>0<\/td>\n",
       "    <\/tr>\n",
       "    <tr>\n",
       "      <th>4<\/th>\n",
       "      <td>democrat<\/td>\n",
       "      <td>1<\/td>\n",
       "      <td>1<\/td>\n",
       "      <td>1<\/td>\n",
       "      <td>0<\/td>\n",
       "      <td>1<\/td>\n",
       "      <td>1<\/td>\n",
       "      <td>0<\/td>\n",
       "      <td>0<\/td>\n",
       "      <td>0<\/td>\n",
       "      <td>0<\/td>\n",
       "      <td>1<\/td>\n",
       "      <td>0<\/td>\n",
       "      <td>1<\/td>\n",
       "      <td>1<\/td>\n",
       "      <td>1<\/td>\n",
       "    <\/tr>\n",
       "    <tr>\n",
       "      <th>...<\/th>\n",
       "      <td>...<\/td>\n",
       "      <td>...<\/td>\n",
       "      <td>...<\/td>\n",
       "      <td>...<\/td>\n",
       "      <td>...<\/td>\n",
       "      <td>...<\/td>\n",
       "      <td>...<\/td>\n",
       "      <td>...<\/td>\n",
       "      <td>...<\/td>\n",
       "      <td>...<\/td>\n",
       "      <td>...<\/td>\n",
       "      <td>...<\/td>\n",
       "      <td>...<\/td>\n",
       "      <td>...<\/td>\n",
       "      <td>...<\/td>\n",
       "      <td>...<\/td>\n",
       "    <\/tr>\n",
       "    <tr>\n",
       "      <th>430<\/th>\n",
       "      <td>republican<\/td>\n",
       "      <td>0<\/td>\n",
       "      <td>0<\/td>\n",
       "      <td>1<\/td>\n",
       "      <td>1<\/td>\n",
       "      <td>1<\/td>\n",
       "      <td>1<\/td>\n",
       "      <td>0<\/td>\n",
       "      <td>0<\/td>\n",
       "      <td>1<\/td>\n",
       "      <td>1<\/td>\n",
       "      <td>0<\/td>\n",
       "      <td>1<\/td>\n",
       "      <td>1<\/td>\n",
       "      <td>1<\/td>\n",
       "      <td>0<\/td>\n",
       "    <\/tr>\n",
       "    <tr>\n",
       "      <th>431<\/th>\n",
       "      <td>democrat<\/td>\n",
       "      <td>0<\/td>\n",
       "      <td>0<\/td>\n",
       "      <td>1<\/td>\n",
       "      <td>0<\/td>\n",
       "      <td>0<\/td>\n",
       "      <td>0<\/td>\n",
       "      <td>1<\/td>\n",
       "      <td>1<\/td>\n",
       "      <td>1<\/td>\n",
       "      <td>1<\/td>\n",
       "      <td>0<\/td>\n",
       "      <td>0<\/td>\n",
       "      <td>0<\/td>\n",
       "      <td>0<\/td>\n",
       "      <td>0<\/td>\n",
       "    <\/tr>\n",
       "    <tr>\n",
       "      <th>432<\/th>\n",
       "      <td>republican<\/td>\n",
       "      <td>0<\/td>\n",
       "      <td>1<\/td>\n",
       "      <td>0<\/td>\n",
       "      <td>1<\/td>\n",
       "      <td>1<\/td>\n",
       "      <td>1<\/td>\n",
       "      <td>0<\/td>\n",
       "      <td>0<\/td>\n",
       "      <td>0<\/td>\n",
       "      <td>0<\/td>\n",
       "      <td>1<\/td>\n",
       "      <td>1<\/td>\n",
       "      <td>1<\/td>\n",
       "      <td>1<\/td>\n",
       "      <td>0<\/td>\n",
       "    <\/tr>\n",
       "    <tr>\n",
       "      <th>433<\/th>\n",
       "      <td>republican<\/td>\n",
       "      <td>0<\/td>\n",
       "      <td>0<\/td>\n",
       "      <td>0<\/td>\n",
       "      <td>1<\/td>\n",
       "      <td>1<\/td>\n",
       "      <td>1<\/td>\n",
       "      <td>1<\/td>\n",
       "      <td>1<\/td>\n",
       "      <td>0<\/td>\n",
       "      <td>1<\/td>\n",
       "      <td>0<\/td>\n",
       "      <td>1<\/td>\n",
       "      <td>1<\/td>\n",
       "      <td>1<\/td>\n",
       "      <td>0<\/td>\n",
       "    <\/tr>\n",
       "    <tr>\n",
       "      <th>434<\/th>\n",
       "      <td>republican<\/td>\n",
       "      <td>0<\/td>\n",
       "      <td>1<\/td>\n",
       "      <td>0<\/td>\n",
       "      <td>1<\/td>\n",
       "      <td>1<\/td>\n",
       "      <td>1<\/td>\n",
       "      <td>0<\/td>\n",
       "      <td>0<\/td>\n",
       "      <td>0<\/td>\n",
       "      <td>1<\/td>\n",
       "      <td>0<\/td>\n",
       "      <td>1<\/td>\n",
       "      <td>1<\/td>\n",
       "      <td>1<\/td>\n",
       "      <td>0<\/td>\n",
       "    <\/tr>\n",
       "  <\/tbody>\n",
       "<\/table>\n",
       "<p>435 rows × 16 columns<\/p>\n",
       "<\/div>"
      ]
     },
     "metadata":{
      
     },
     "output_type":"display_data"
    }
   ],
   "metadata":{
    "datalore":{
     "node_id":"l1chZhfozgmUc2DVrFGbPN",
     "type":"CODE",
     "hide_input_from_viewers":true,
     "hide_output_from_viewers":true
    }
   }
  },
  {
   "cell_type":"code",
   "source":[
    "df.info()"
   ],
   "execution_count":7,
   "outputs":[
    {
     "name":"stdout",
     "text":[
      "<class 'pandas.core.frame.DataFrame'>\n",
      "RangeIndex: 435 entries, 0 to 434\n",
      "Data columns (total 16 columns):\n",
      " #   Column            Non-Null Count  Dtype \n",
      "---  ------            --------------  ----- \n",
      " 0   party             435 non-null    object\n",
      " 1   infant            435 non-null    int64 \n",
      " 2   water             435 non-null    int64 \n",
      " 3   budget            435 non-null    int64 \n",
      " 4   physician         435 non-null    int64 \n",
      " 5   salvador          435 non-null    int64 \n",
      " 6   religious         435 non-null    int64 \n",
      " 7   satellite         435 non-null    int64 \n",
      " 8   aid               435 non-null    int64 \n",
      " 9   missile           435 non-null    int64 \n",
      " 10  immigration       435 non-null    int64 \n",
      " 11  synfuels          435 non-null    int64 \n",
      " 12  education         435 non-null    int64 \n",
      " 13  superfund         435 non-null    int64 \n",
      " 14  crime             435 non-null    int64 \n",
      " 15  dutyfree exports  435 non-null    int64 \n",
      "dtypes: int64(15), object(1)\n",
      "memory usage: 54.5+ KB\n"
     ],
     "output_type":"stream"
    }
   ],
   "metadata":{
    "datalore":{
     "node_id":"DgAnYdTAdW3huccuxh78C3",
     "type":"CODE",
     "hide_input_from_viewers":true,
     "hide_output_from_viewers":true
    }
   }
  },
  {
   "cell_type":"code",
   "source":[
    "plt.figure(figsize=(16, 12))\n",
    "sns.heatmap(df.corr(method='spearman'), annot=True);"
   ],
   "execution_count":8,
   "outputs":[
    {
     "data":{
      "image\/png":"[encoded data removed]"
     },
     "metadata":{
      "image\/png":{
       
      }
     },
     "output_type":"display_data"
    }
   ],
   "metadata":{
    "datalore":{
     "node_id":"mIjPqZEG6RAUx2xGterXCD",
     "type":"CODE",
     "hide_input_from_viewers":true,
     "hide_output_from_viewers":true
    }
   }
  },
  {
   "cell_type":"code",
   "source":[
    "x = df.drop('party', axis=1)\n",
    "y = df['party']"
   ],
   "execution_count":9,
   "outputs":[
    
   ],
   "metadata":{
    "datalore":{
     "node_id":"erELT993mrKrVrZcYu8YGp",
     "type":"CODE",
     "hide_input_from_viewers":true,
     "hide_output_from_viewers":true
    }
   }
  },
  {
   "cell_type":"code",
   "source":[
    
   ],
   "execution_count":null,
   "outputs":[
    
   ],
   "metadata":{
    "datalore":{
     "node_id":"sOQP7j8QyIRHgAMXOwYjVK",
     "type":"CODE",
     "hide_input_from_viewers":true,
     "hide_output_from_viewers":true
    }
   }
  },
  {
   "cell_type":"markdown",
   "source":[
    "# MODEL"
   ],
   "attachments":{
    
   },
   "metadata":{
    "datalore":{
     "node_id":"MODEL",
     "type":"MD",
     "hide_input_from_viewers":false,
     "hide_output_from_viewers":false,
     "sheet_delimiter":true
    }
   }
  },
  {
   "cell_type":"code",
   "source":[
    "import lightgbm as lgb\n",
    "import xgboost as xgb\n",
    "from sklearn.model_selection import train_test_split\n",
    "from sklearn.metrics import classification_report, r2_score, mean_squared_log_error, accuracy_score"
   ],
   "execution_count":10,
   "outputs":[
    
   ],
   "metadata":{
    "datalore":{
     "node_id":"haaNTffGqlyO6rO5jMa4iE",
     "type":"CODE",
     "hide_input_from_viewers":true,
     "hide_output_from_viewers":true
    }
   }
  },
  {
   "cell_type":"code",
   "source":[
    "x_train, x_test, y_train, y_test = train_test_split(x, y, test_size=0.3)"
   ],
   "execution_count":11,
   "outputs":[
    
   ],
   "metadata":{
    "datalore":{
     "node_id":"yhLerKkc1plNQiEygddwct",
     "type":"CODE",
     "hide_input_from_viewers":true,
     "hide_output_from_viewers":true
    }
   }
  },
  {
   "cell_type":"code",
   "source":[
    "model = lgb.LGBMClassifier()"
   ],
   "execution_count":12,
   "outputs":[
    
   ],
   "metadata":{
    "datalore":{
     "node_id":"VldB4L5ZDSiWrHWzcsmtRz",
     "type":"CODE",
     "hide_input_from_viewers":true,
     "hide_output_from_viewers":true
    }
   }
  },
  {
   "cell_type":"code",
   "source":[
    "model.fit(x_train, y_train, eval_set=[(x_test, y_test)], eval_metric='l1', early_stopping_rounds=1000)"
   ],
   "execution_count":13,
   "outputs":[
    {
     "name":"stdout",
     "text":[
      "[1]\tvalid_0's l1: 0.437659\tvalid_0's binary_logloss: 0.597954\n",
      "[2]\tvalid_0's l1: 0.401014\tvalid_0's binary_logloss: 0.529545\n",
      "[3]\tvalid_0's l1: 0.367759\tvalid_0's binary_logloss: 0.472874\n",
      "[4]\tvalid_0's l1: 0.338365\tvalid_0's binary_logloss: 0.42649\n",
      "[5]\tvalid_0's l1: 0.311466\tvalid_0's binary_logloss: 0.386492\n",
      "[6]\tvalid_0's l1: 0.287327\tvalid_0's binary_logloss: 0.352485\n",
      "[7]\tvalid_0's l1: 0.265938\tvalid_0's binary_logloss: 0.324048\n",
      "[8]\tvalid_0's l1: 0.246256\tvalid_0's binary_logloss: 0.298654\n",
      "[9]\tvalid_0's l1: 0.228848\tvalid_0's binary_logloss: 0.277439\n",
      "[10]\tvalid_0's l1: 0.213107\tvalid_0's binary_logloss: 0.258442\n",
      "[11]\tvalid_0's l1: 0.198967\tvalid_0's binary_logloss: 0.242474\n",
      "[12]\tvalid_0's l1: 0.185804\tvalid_0's binary_logloss: 0.227455\n",
      "[13]\tvalid_0's l1: 0.174227\tvalid_0's binary_logloss: 0.215223\n",
      "[14]\tvalid_0's l1: 0.163724\tvalid_0's binary_logloss: 0.203757\n",
      "[15]\tvalid_0's l1: 0.154301\tvalid_0's binary_logloss: 0.194437\n",
      "[16]\tvalid_0's l1: 0.145396\tvalid_0's binary_logloss: 0.185075\n",
      "[17]\tvalid_0's l1: 0.137649\tvalid_0's binary_logloss: 0.177865\n",
      "[18]\tvalid_0's l1: 0.13058\tvalid_0's binary_logloss: 0.170648\n",
      "[19]\tvalid_0's l1: 0.124259\tvalid_0's binary_logloss: 0.165149\n",
      "[20]\tvalid_0's l1: 0.118182\tvalid_0's binary_logloss: 0.159096\n",
      "[21]\tvalid_0's l1: 0.113317\tvalid_0's binary_logloss: 0.152612\n",
      "[22]\tvalid_0's l1: 0.108413\tvalid_0's binary_logloss: 0.148368\n",
      "[23]\tvalid_0's l1: 0.104159\tvalid_0's binary_logloss: 0.143538\n",
      "[24]\tvalid_0's l1: 0.10032\tvalid_0's binary_logloss: 0.140141\n",
      "[25]\tvalid_0's l1: 0.0973463\tvalid_0's binary_logloss: 0.137983\n",
      "[26]\tvalid_0's l1: 0.0946512\tvalid_0's binary_logloss: 0.135939\n",
      "[27]\tvalid_0's l1: 0.0918573\tvalid_0's binary_logloss: 0.13366\n",
      "[28]\tvalid_0's l1: 0.0896839\tvalid_0's binary_logloss: 0.132169\n",
      "[29]\tvalid_0's l1: 0.0875243\tvalid_0's binary_logloss: 0.131802\n",
      "[30]\tvalid_0's l1: 0.0857577\tvalid_0's binary_logloss: 0.132476\n",
      "[31]\tvalid_0's l1: 0.0840205\tvalid_0's binary_logloss: 0.129547\n",
      "[32]\tvalid_0's l1: 0.0815013\tvalid_0's binary_logloss: 0.126919\n",
      "[33]\tvalid_0's l1: 0.0802091\tvalid_0's binary_logloss: 0.126191\n",
      "[34]\tvalid_0's l1: 0.0780081\tvalid_0's binary_logloss: 0.123338\n",
      "[35]\tvalid_0's l1: 0.0767494\tvalid_0's binary_logloss: 0.121932\n",
      "[36]\tvalid_0's l1: 0.0755256\tvalid_0's binary_logloss: 0.122283\n",
      "[37]\tvalid_0's l1: 0.0737273\tvalid_0's binary_logloss: 0.121906\n",
      "[38]\tvalid_0's l1: 0.0727698\tvalid_0's binary_logloss: 0.120613\n",
      "[39]\tvalid_0's l1: 0.0711997\tvalid_0's binary_logloss: 0.120521\n",
      "[40]\tvalid_0's l1: 0.0697107\tvalid_0's binary_logloss: 0.118229\n",
      "[41]\tvalid_0's l1: 0.0692462\tvalid_0's binary_logloss: 0.117656\n",
      "[42]\tvalid_0's l1: 0.0683268\tvalid_0's binary_logloss: 0.118519\n",
      "[43]\tvalid_0's l1: 0.0670082\tvalid_0's binary_logloss: 0.115302\n",
      "[44]\tvalid_0's l1: 0.0671369\tvalid_0's binary_logloss: 0.115633\n",
      "[45]\tvalid_0's l1: 0.0660028\tvalid_0's binary_logloss: 0.116587\n",
      "[46]\tvalid_0's l1: 0.0645681\tvalid_0's binary_logloss: 0.114111\n",
      "[47]\tvalid_0's l1: 0.0643362\tvalid_0's binary_logloss: 0.115289\n",
      "[48]\tvalid_0's l1: 0.0637642\tvalid_0's binary_logloss: 0.114211\n",
      "[49]\tvalid_0's l1: 0.0638858\tvalid_0's binary_logloss: 0.115705\n",
      "[50]\tvalid_0's l1: 0.0629964\tvalid_0's binary_logloss: 0.116938\n",
      "[51]\tvalid_0's l1: 0.0626898\tvalid_0's binary_logloss: 0.119569\n",
      "[52]\tvalid_0's l1: 0.0625986\tvalid_0's binary_logloss: 0.117972\n",
      "[53]\tvalid_0's l1: 0.0624767\tvalid_0's binary_logloss: 0.120843\n",
      "[54]\tvalid_0's l1: 0.0614543\tvalid_0's binary_logloss: 0.119914\n",
      "[55]\tvalid_0's l1: 0.0603205\tvalid_0's binary_logloss: 0.117387\n",
      "[56]\tvalid_0's l1: 0.0606009\tvalid_0's binary_logloss: 0.120515\n",
      "[57]\tvalid_0's l1: 0.060387\tvalid_0's binary_logloss: 0.12156\n",
      "[58]\tvalid_0's l1: 0.060334\tvalid_0's binary_logloss: 0.124616\n",
      "[59]\tvalid_0's l1: 0.0598431\tvalid_0's binary_logloss: 0.123249\n",
      "[60]\tvalid_0's l1: 0.0601539\tvalid_0's binary_logloss: 0.123069\n",
      "[61]\tvalid_0's l1: 0.0602161\tvalid_0's binary_logloss: 0.126229\n",
      "[62]\tvalid_0's l1: 0.0591601\tvalid_0's binary_logloss: 0.125376\n",
      "[63]\tvalid_0's l1: 0.0583053\tvalid_0's binary_logloss: 0.124862\n",
      "[64]\tvalid_0's l1: 0.0584745\tvalid_0's binary_logloss: 0.123967\n",
      "[65]\tvalid_0's l1: 0.0589039\tvalid_0's binary_logloss: 0.12653\n",
      "[66]\tvalid_0's l1: 0.0580017\tvalid_0's binary_logloss: 0.125703\n",
      "[67]\tvalid_0's l1: 0.0576354\tvalid_0's binary_logloss: 0.124751\n",
      "[68]\tvalid_0's l1: 0.0576229\tvalid_0's binary_logloss: 0.124981\n",
      "[69]\tvalid_0's l1: 0.0575557\tvalid_0's binary_logloss: 0.125038\n",
      "[70]\tvalid_0's l1: 0.0575626\tvalid_0's binary_logloss: 0.128065\n",
      "[71]\tvalid_0's l1: 0.0574735\tvalid_0's binary_logloss: 0.12958\n",
      "[72]\tvalid_0's l1: 0.0564805\tvalid_0's binary_logloss: 0.127829\n",
      "[73]\tvalid_0's l1: 0.0560249\tvalid_0's binary_logloss: 0.127369\n",
      "[74]\tvalid_0's l1: 0.0559303\tvalid_0's binary_logloss: 0.128901\n",
      "[75]\tvalid_0's l1: 0.0561123\tvalid_0's binary_logloss: 0.130208\n",
      "[76]\tvalid_0's l1: 0.0563506\tvalid_0's binary_logloss: 0.133632\n",
      "[77]\tvalid_0's l1: 0.0553219\tvalid_0's binary_logloss: 0.132182\n",
      "[78]\tvalid_0's l1: 0.054651\tvalid_0's binary_logloss: 0.133992\n",
      "[79]\tvalid_0's l1: 0.0548285\tvalid_0's binary_logloss: 0.13447\n",
      "[80]\tvalid_0's l1: 0.0538956\tvalid_0's binary_logloss: 0.133147\n",
      "[81]\tvalid_0's l1: 0.0534271\tvalid_0's binary_logloss: 0.132734\n",
      "[82]\tvalid_0's l1: 0.0534202\tvalid_0's binary_logloss: 0.133442\n",
      "[83]\tvalid_0's l1: 0.0536051\tvalid_0's binary_logloss: 0.134166\n",
      "[84]\tvalid_0's l1: 0.0536085\tvalid_0's binary_logloss: 0.13434\n",
      "[85]\tvalid_0's l1: 0.0536103\tvalid_0's binary_logloss: 0.134951\n",
      "[86]\tvalid_0's l1: 0.0531017\tvalid_0's binary_logloss: 0.137256\n",
      "[87]\tvalid_0's l1: 0.0526714\tvalid_0's binary_logloss: 0.139663\n",
      "[88]\tvalid_0's l1: 0.0531654\tvalid_0's binary_logloss: 0.140985\n",
      "[89]\tvalid_0's l1: 0.0536723\tvalid_0's binary_logloss: 0.142392\n",
      "[90]\tvalid_0's l1: 0.0528279\tvalid_0's binary_logloss: 0.141209\n",
      "[91]\tvalid_0's l1: 0.0528388\tvalid_0's binary_logloss: 0.141417\n",
      "[92]\tvalid_0's l1: 0.0529356\tvalid_0's binary_logloss: 0.142755\n",
      "[93]\tvalid_0's l1: 0.0525345\tvalid_0's binary_logloss: 0.145233\n",
      "[94]\tvalid_0's l1: 0.0527788\tvalid_0's binary_logloss: 0.146125\n",
      "[95]\tvalid_0's l1: 0.0530267\tvalid_0's binary_logloss: 0.147053\n",
      "[96]\tvalid_0's l1: 0.0531597\tvalid_0's binary_logloss: 0.148447\n",
      "[97]\tvalid_0's l1: 0.0534608\tvalid_0's binary_logloss: 0.149499\n",
      "[98]\tvalid_0's l1: 0.0537788\tvalid_0's binary_logloss: 0.152268\n",
      "[99]\tvalid_0's l1: 0.0531589\tvalid_0's binary_logloss: 0.151363\n",
      "[100]\tvalid_0's l1: 0.0526309\tvalid_0's binary_logloss: 0.151123\n"
     ],
     "output_type":"stream"
    },
    {
     "name":"stderr",
     "text":[
      "\/opt\/python\/envs\/default\/lib\/python3.8\/site-packages\/lightgbm\/sklearn.py:726: UserWarning: 'early_stopping_rounds' argument is deprecated and will be removed in a future release of LightGBM. Pass 'early_stopping()' callback via 'callbacks' argument instead.\n",
      "  _log_warning(\"'early_stopping_rounds' argument is deprecated and will be removed in a future release of LightGBM. \"\n"
     ],
     "output_type":"stream"
    },
    {
     "data":{
      "text\/plain":[
       "LGBMClassifier()"
      ]
     },
     "metadata":{
      
     },
     "output_type":"display_data"
    }
   ],
   "metadata":{
    "datalore":{
     "node_id":"9cp3AsGEHocImuVr2JLIZw",
     "type":"CODE",
     "hide_input_from_viewers":true,
     "hide_output_from_viewers":true
    }
   }
  },
  {
   "cell_type":"code",
   "source":[
    "y_pred = model.predict(x_test, num_iteration=model.best_iteration_)"
   ],
   "execution_count":14,
   "outputs":[
    
   ],
   "metadata":{
    "datalore":{
     "node_id":"YS4QrMJFH4M4jtYGsQnzpa",
     "type":"CODE",
     "hide_input_from_viewers":true,
     "hide_output_from_viewers":true
    }
   }
  },
  {
   "cell_type":"code",
   "source":[
    "print(classification_report(y_test, y_pred))"
   ],
   "execution_count":15,
   "outputs":[
    {
     "name":"stdout",
     "text":[
      "              precision    recall  f1-score   support\n",
      "\n",
      "    democrat       0.97      0.96      0.97        76\n",
      "  republican       0.95      0.96      0.95        55\n",
      "\n",
      "    accuracy                           0.96       131\n",
      "   macro avg       0.96      0.96      0.96       131\n",
      "weighted avg       0.96      0.96      0.96       131\n",
      "\n"
     ],
     "output_type":"stream"
    }
   ],
   "metadata":{
    "datalore":{
     "node_id":"Qb31ui5b2Q7inVTSihw8Wh",
     "type":"CODE",
     "hide_input_from_viewers":true,
     "hide_output_from_viewers":true
    }
   }
  },
  {
   "cell_type":"code",
   "source":[
    "show_cm(model, y_test, y_pred)"
   ],
   "execution_count":16,
   "outputs":[
    {
     "data":{
      "image\/png":"[encoded data removed]"
     },
     "metadata":{
      "image\/png":{
       
      }
     },
     "output_type":"display_data"
    }
   ],
   "metadata":{
    "datalore":{
     "node_id":"DO4UoU7l5ICwOHyoxanxWV",
     "type":"CODE",
     "hide_input_from_viewers":true,
     "hide_output_from_viewers":true
    }
   }
  },
  {
   "cell_type":"code",
   "source":[
    "print('train accuracy score', model.score(x_train, y_train))\n",
    "print('test accuracy score', model.score(x_test, y_test))"
   ],
   "execution_count":17,
   "outputs":[
    {
     "name":"stdout",
     "text":[
      "train accuracy score 0.9967105263157895\n",
      "test accuracy score 0.9618320610687023\n"
     ],
     "output_type":"stream"
    }
   ],
   "metadata":{
    "datalore":{
     "node_id":"WpBUEVFLyR6OKzuJxKisUa",
     "type":"CODE",
     "hide_input_from_viewers":true,
     "hide_output_from_viewers":true
    }
   }
  },
  {
   "cell_type":"code",
   "source":[
    
   ],
   "execution_count":null,
   "outputs":[
    
   ],
   "metadata":{
    "datalore":{
     "node_id":"pYFr6OrvzbKzEiRoKR38Xl",
     "type":"CODE",
     "hide_input_from_viewers":true,
     "hide_output_from_viewers":true
    }
   }
  }
 ],
 "metadata":{
  "kernelspec":{
   "display_name":"Python",
   "language":"python",
   "name":"python"
  },
  "datalore":{
   "computation_mode":"REACTIVE",
   "package_manager":"pip",
   "base_environment":"default",
   "packages":[
    {
     "name":"lightgbm",
     "version":"3.3.2",
     "source":"PIP"
    },
    {
     "name":"optunity",
     "version":"1.1.1",
     "source":"PIP"
    }
   ],
   "report_row_ids":[
    
   ],
   "version":2
  }
 },
 "nbformat":4,
 "nbformat_minor":4
}