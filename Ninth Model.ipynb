{
 "cells":[
  {
   "cell_type":"markdown",
   "source":[
    "# Functions"
   ],
   "attachments":{
    
   },
   "metadata":{
    "datalore":{
     "node_id":"Functions",
     "type":"MD",
     "hide_input_from_viewers":false,
     "hide_output_from_viewers":false,
     "sheet_delimiter":true
    }
   }
  },
  {
   "cell_type":"code",
   "source":[
    "def show_cm(model, y_test, pred):\n",
    "    from sklearn.metrics import confusion_matrix, ConfusionMatrixDisplay\n",
    "    \n",
    "    cm = confusion_matrix(y_test, pred, labels=model.classes_)\n",
    "    display = ConfusionMatrixDisplay(confusion_matrix=cm, display_labels=model.classes_)\n",
    "    display.plot()\n",
    "    plt.show()"
   ],
   "execution_count":1,
   "outputs":[
    
   ],
   "metadata":{
    "datalore":{
     "node_id":"8CfHvrKt6BkOyD2o9EGpsT",
     "type":"CODE",
     "hide_input_from_viewers":true,
     "hide_output_from_viewers":true
    }
   }
  },
  {
   "cell_type":"code",
   "source":[
    
   ],
   "execution_count":null,
   "outputs":[
    
   ],
   "metadata":{
    "datalore":{
     "node_id":"NEwcFnnCWw8WFidbd2UbhA",
     "type":"CODE",
     "hide_input_from_viewers":true,
     "hide_output_from_viewers":true
    }
   }
  },
  {
   "cell_type":"markdown",
   "source":[
    "# EDA"
   ],
   "attachments":{
    
   },
   "metadata":{
    "datalore":{
     "node_id":"EDA",
     "type":"MD",
     "hide_input_from_viewers":false,
     "hide_output_from_viewers":false,
     "sheet_delimiter":true
    }
   }
  },
  {
   "cell_type":"code",
   "source":[
    "import pandas as pd\n",
    "import matplotlib.pyplot as plt\n",
    "import seaborn as sns\n",
    "\n",
    "%matplotlib inline"
   ],
   "execution_count":2,
   "outputs":[
    
   ],
   "metadata":{
    "datalore":{
     "node_id":"HNPofB4Qd2DMzPmCTdhepP",
     "type":"CODE",
     "hide_input_from_viewers":true,
     "hide_output_from_viewers":true
    }
   }
  },
  {
   "cell_type":"code",
   "source":[
    "data = pd.read_csv('insurance_data.csv', engine='c')\n",
    "df = data.copy()\n",
    "df.info()"
   ],
   "execution_count":3,
   "outputs":[
    {
     "name":"stdout",
     "text":[
      "<class 'pandas.core.frame.DataFrame'>\n",
      "RangeIndex: 27 entries, 0 to 26\n",
      "Data columns (total 2 columns):\n",
      " #   Column            Non-Null Count  Dtype\n",
      "---  ------            --------------  -----\n",
      " 0   age               27 non-null     int64\n",
      " 1   bought_insurance  27 non-null     int64\n",
      "dtypes: int64(2)\n",
      "memory usage: 560.0 bytes\n"
     ],
     "output_type":"stream"
    }
   ],
   "metadata":{
    "datalore":{
     "node_id":"j6XWyO1nK9NArizOIAM2C1",
     "type":"CODE",
     "hide_input_from_viewers":true,
     "hide_output_from_viewers":true
    }
   }
  },
  {
   "cell_type":"code",
   "source":[
    "df"
   ],
   "execution_count":4,
   "outputs":[
    {
     "data":{
      "text\/html":[
       "<div>\n",
       "<style scoped>\n",
       "    .dataframe tbody tr th:only-of-type {\n",
       "        vertical-align: middle;\n",
       "    }\n",
       "\n",
       "    .dataframe tbody tr th {\n",
       "        vertical-align: top;\n",
       "    }\n",
       "\n",
       "    .dataframe thead th {\n",
       "        text-align: right;\n",
       "    }\n",
       "<\/style>\n",
       "<table border=\"1\" class=\"dataframe\">\n",
       "  <thead>\n",
       "    <tr style=\"text-align: right;\">\n",
       "      <th><\/th>\n",
       "      <th>age<\/th>\n",
       "      <th>bought_insurance<\/th>\n",
       "    <\/tr>\n",
       "  <\/thead>\n",
       "  <tbody>\n",
       "    <tr>\n",
       "      <th>0<\/th>\n",
       "      <td>22<\/td>\n",
       "      <td>0<\/td>\n",
       "    <\/tr>\n",
       "    <tr>\n",
       "      <th>1<\/th>\n",
       "      <td>25<\/td>\n",
       "      <td>0<\/td>\n",
       "    <\/tr>\n",
       "    <tr>\n",
       "      <th>2<\/th>\n",
       "      <td>47<\/td>\n",
       "      <td>1<\/td>\n",
       "    <\/tr>\n",
       "    <tr>\n",
       "      <th>3<\/th>\n",
       "      <td>52<\/td>\n",
       "      <td>0<\/td>\n",
       "    <\/tr>\n",
       "    <tr>\n",
       "      <th>4<\/th>\n",
       "      <td>46<\/td>\n",
       "      <td>1<\/td>\n",
       "    <\/tr>\n",
       "    <tr>\n",
       "      <th>5<\/th>\n",
       "      <td>56<\/td>\n",
       "      <td>1<\/td>\n",
       "    <\/tr>\n",
       "    <tr>\n",
       "      <th>6<\/th>\n",
       "      <td>55<\/td>\n",
       "      <td>0<\/td>\n",
       "    <\/tr>\n",
       "    <tr>\n",
       "      <th>7<\/th>\n",
       "      <td>60<\/td>\n",
       "      <td>1<\/td>\n",
       "    <\/tr>\n",
       "    <tr>\n",
       "      <th>8<\/th>\n",
       "      <td>62<\/td>\n",
       "      <td>1<\/td>\n",
       "    <\/tr>\n",
       "    <tr>\n",
       "      <th>9<\/th>\n",
       "      <td>61<\/td>\n",
       "      <td>1<\/td>\n",
       "    <\/tr>\n",
       "    <tr>\n",
       "      <th>10<\/th>\n",
       "      <td>18<\/td>\n",
       "      <td>0<\/td>\n",
       "    <\/tr>\n",
       "    <tr>\n",
       "      <th>11<\/th>\n",
       "      <td>28<\/td>\n",
       "      <td>0<\/td>\n",
       "    <\/tr>\n",
       "    <tr>\n",
       "      <th>12<\/th>\n",
       "      <td>27<\/td>\n",
       "      <td>0<\/td>\n",
       "    <\/tr>\n",
       "    <tr>\n",
       "      <th>13<\/th>\n",
       "      <td>29<\/td>\n",
       "      <td>0<\/td>\n",
       "    <\/tr>\n",
       "    <tr>\n",
       "      <th>14<\/th>\n",
       "      <td>49<\/td>\n",
       "      <td>1<\/td>\n",
       "    <\/tr>\n",
       "    <tr>\n",
       "      <th>15<\/th>\n",
       "      <td>55<\/td>\n",
       "      <td>1<\/td>\n",
       "    <\/tr>\n",
       "    <tr>\n",
       "      <th>16<\/th>\n",
       "      <td>25<\/td>\n",
       "      <td>1<\/td>\n",
       "    <\/tr>\n",
       "    <tr>\n",
       "      <th>17<\/th>\n",
       "      <td>58<\/td>\n",
       "      <td>1<\/td>\n",
       "    <\/tr>\n",
       "    <tr>\n",
       "      <th>18<\/th>\n",
       "      <td>19<\/td>\n",
       "      <td>0<\/td>\n",
       "    <\/tr>\n",
       "    <tr>\n",
       "      <th>19<\/th>\n",
       "      <td>18<\/td>\n",
       "      <td>0<\/td>\n",
       "    <\/tr>\n",
       "    <tr>\n",
       "      <th>20<\/th>\n",
       "      <td>21<\/td>\n",
       "      <td>0<\/td>\n",
       "    <\/tr>\n",
       "    <tr>\n",
       "      <th>21<\/th>\n",
       "      <td>26<\/td>\n",
       "      <td>0<\/td>\n",
       "    <\/tr>\n",
       "    <tr>\n",
       "      <th>22<\/th>\n",
       "      <td>40<\/td>\n",
       "      <td>1<\/td>\n",
       "    <\/tr>\n",
       "    <tr>\n",
       "      <th>23<\/th>\n",
       "      <td>45<\/td>\n",
       "      <td>1<\/td>\n",
       "    <\/tr>\n",
       "    <tr>\n",
       "      <th>24<\/th>\n",
       "      <td>50<\/td>\n",
       "      <td>1<\/td>\n",
       "    <\/tr>\n",
       "    <tr>\n",
       "      <th>25<\/th>\n",
       "      <td>54<\/td>\n",
       "      <td>1<\/td>\n",
       "    <\/tr>\n",
       "    <tr>\n",
       "      <th>26<\/th>\n",
       "      <td>23<\/td>\n",
       "      <td>0<\/td>\n",
       "    <\/tr>\n",
       "  <\/tbody>\n",
       "<\/table>\n",
       "<\/div>"
      ]
     },
     "metadata":{
      
     },
     "output_type":"display_data"
    }
   ],
   "metadata":{
    "datalore":{
     "node_id":"aSsvBd6voflIa0X7ZgBQSV",
     "type":"CODE",
     "hide_input_from_viewers":true,
     "hide_output_from_viewers":true
    }
   }
  },
  {
   "cell_type":"code",
   "source":[
    "x = df.drop('bought_insurance', axis=1)\n",
    "y = df['bought_insurance']"
   ],
   "execution_count":5,
   "outputs":[
    
   ],
   "metadata":{
    "datalore":{
     "node_id":"jnNNnpG07hY0rroIbGwReg",
     "type":"CODE",
     "hide_input_from_viewers":true,
     "hide_output_from_viewers":true
    }
   }
  },
  {
   "cell_type":"code",
   "source":[
    
   ],
   "execution_count":null,
   "outputs":[
    
   ],
   "metadata":{
    "datalore":{
     "node_id":"mvFagfDTeMtjj7fhsELTd3",
     "type":"CODE",
     "hide_input_from_viewers":true,
     "hide_output_from_viewers":true
    }
   }
  },
  {
   "cell_type":"markdown",
   "source":[
    "# MODEL"
   ],
   "attachments":{
    
   },
   "metadata":{
    "datalore":{
     "node_id":"MODEL",
     "type":"MD",
     "hide_input_from_viewers":false,
     "hide_output_from_viewers":false,
     "sheet_delimiter":true
    }
   }
  },
  {
   "cell_type":"code",
   "source":[
    "import lightgbm as lgb\n",
    "from sklearn.model_selection import train_test_split\n",
    "from sklearn.metrics import r2_score, mean_squared_log_error"
   ],
   "execution_count":6,
   "outputs":[
    
   ],
   "metadata":{
    "datalore":{
     "node_id":"tuiMgpzfy8ZsRHe8JlCyOK",
     "type":"CODE",
     "hide_input_from_viewers":true,
     "hide_output_from_viewers":true
    }
   }
  },
  {
   "cell_type":"code",
   "source":[
    "x_train, x_test, y_train, y_test = train_test_split(x, y, test_size=0.4)"
   ],
   "execution_count":7,
   "outputs":[
    
   ],
   "metadata":{
    "datalore":{
     "node_id":"3RQFg5FGaa4MXprdNdqTux",
     "type":"CODE",
     "hide_input_from_viewers":true,
     "hide_output_from_viewers":true
    }
   }
  },
  {
   "cell_type":"code",
   "source":[
    "model = lgb.LGBMRegressor()"
   ],
   "execution_count":8,
   "outputs":[
    
   ],
   "metadata":{
    "datalore":{
     "node_id":"zXtIGVxk6RNLmPChefkruR",
     "type":"CODE",
     "hide_input_from_viewers":true,
     "hide_output_from_viewers":true
    }
   }
  },
  {
   "cell_type":"code",
   "source":[
    "model.fit(x_train, y_train, eval_set=[(x_test, y_test)], eval_metric='l1', early_stopping_rounds=1000)"
   ],
   "execution_count":9,
   "outputs":[
    {
     "name":"stdout",
     "text":[
      "[1]\tvalid_0's l1: 0.386364\tvalid_0's l2: 0.198864\n",
      "[2]\tvalid_0's l1: 0.386364\tvalid_0's l2: 0.198864\n",
      "[3]\tvalid_0's l1: 0.386364\tvalid_0's l2: 0.198864\n",
      "[4]\tvalid_0's l1: 0.386364\tvalid_0's l2: 0.198864\n",
      "[5]\tvalid_0's l1: 0.386364\tvalid_0's l2: 0.198864\n",
      "[6]\tvalid_0's l1: 0.386364\tvalid_0's l2: 0.198864\n",
      "[7]\tvalid_0's l1: 0.386364\tvalid_0's l2: 0.198864\n",
      "[8]\tvalid_0's l1: 0.386364\tvalid_0's l2: 0.198864\n",
      "[9]\tvalid_0's l1: 0.386364\tvalid_0's l2: 0.198864\n",
      "[10]\tvalid_0's l1: 0.386364\tvalid_0's l2: 0.198864\n",
      "[11]\tvalid_0's l1: 0.386364\tvalid_0's l2: 0.198864\n",
      "[12]\tvalid_0's l1: 0.386364\tvalid_0's l2: 0.198864\n",
      "[13]\tvalid_0's l1: 0.386364\tvalid_0's l2: 0.198864\n",
      "[14]\tvalid_0's l1: 0.386364\tvalid_0's l2: 0.198864\n",
      "[15]\tvalid_0's l1: 0.386364\tvalid_0's l2: 0.198864\n",
      "[16]\tvalid_0's l1: 0.386364\tvalid_0's l2: 0.198864\n",
      "[17]\tvalid_0's l1: 0.386364\tvalid_0's l2: 0.198864\n",
      "[18]\tvalid_0's l1: 0.386364\tvalid_0's l2: 0.198864\n",
      "[19]\tvalid_0's l1: 0.386364\tvalid_0's l2: 0.198864\n",
      "[20]\tvalid_0's l1: 0.386364\tvalid_0's l2: 0.198864\n",
      "[21]\tvalid_0's l1: 0.386364\tvalid_0's l2: 0.198864\n",
      "[22]\tvalid_0's l1: 0.386364\tvalid_0's l2: 0.198864\n",
      "[23]\tvalid_0's l1: 0.386364\tvalid_0's l2: 0.198864\n",
      "[24]\tvalid_0's l1: 0.386364\tvalid_0's l2: 0.198864\n",
      "[25]\tvalid_0's l1: 0.386364\tvalid_0's l2: 0.198864\n",
      "[26]\tvalid_0's l1: 0.386364\tvalid_0's l2: 0.198864\n",
      "[27]\tvalid_0's l1: 0.386364\tvalid_0's l2: 0.198864\n",
      "[28]\tvalid_0's l1: 0.386364\tvalid_0's l2: 0.198864\n",
      "[29]\tvalid_0's l1: 0.386364\tvalid_0's l2: 0.198864\n",
      "[30]\tvalid_0's l1: 0.386364\tvalid_0's l2: 0.198864\n",
      "[31]\tvalid_0's l1: 0.386364\tvalid_0's l2: 0.198864\n",
      "[32]\tvalid_0's l1: 0.386364\tvalid_0's l2: 0.198864\n",
      "[33]\tvalid_0's l1: 0.386364\tvalid_0's l2: 0.198864\n",
      "[34]\tvalid_0's l1: 0.386364\tvalid_0's l2: 0.198864\n",
      "[35]\tvalid_0's l1: 0.386364\tvalid_0's l2: 0.198864\n",
      "[36]\tvalid_0's l1: 0.386364\tvalid_0's l2: 0.198864\n",
      "[37]\tvalid_0's l1: 0.386364\tvalid_0's l2: 0.198864\n",
      "[38]\tvalid_0's l1: 0.386364\tvalid_0's l2: 0.198864\n",
      "[39]\tvalid_0's l1: 0.386364\tvalid_0's l2: 0.198864\n",
      "[40]\tvalid_0's l1: 0.386364\tvalid_0's l2: 0.198864\n",
      "[41]\tvalid_0's l1: 0.386364\tvalid_0's l2: 0.198864\n",
      "[42]\tvalid_0's l1: 0.386364\tvalid_0's l2: 0.198864\n",
      "[43]\tvalid_0's l1: 0.386364\tvalid_0's l2: 0.198864\n",
      "[44]\tvalid_0's l1: 0.386364\tvalid_0's l2: 0.198864\n",
      "[45]\tvalid_0's l1: 0.386364\tvalid_0's l2: 0.198864\n",
      "[46]\tvalid_0's l1: 0.386364\tvalid_0's l2: 0.198864\n",
      "[47]\tvalid_0's l1: 0.386364\tvalid_0's l2: 0.198864\n",
      "[48]\tvalid_0's l1: 0.386364\tvalid_0's l2: 0.198864\n",
      "[49]\tvalid_0's l1: 0.386364\tvalid_0's l2: 0.198864\n",
      "[50]\tvalid_0's l1: 0.386364\tvalid_0's l2: 0.198864\n",
      "[51]\tvalid_0's l1: 0.386364\tvalid_0's l2: 0.198864\n",
      "[52]\tvalid_0's l1: 0.386364\tvalid_0's l2: 0.198864\n",
      "[53]\tvalid_0's l1: 0.386364\tvalid_0's l2: 0.198864\n",
      "[54]\tvalid_0's l1: 0.386364\tvalid_0's l2: 0.198864\n",
      "[55]\tvalid_0's l1: 0.386364\tvalid_0's l2: 0.198864\n",
      "[56]\tvalid_0's l1: 0.386364\tvalid_0's l2: 0.198864\n",
      "[57]\tvalid_0's l1: 0.386364\tvalid_0's l2: 0.198864\n",
      "[58]\tvalid_0's l1: 0.386364\tvalid_0's l2: 0.198864\n",
      "[59]\tvalid_0's l1: 0.386364\tvalid_0's l2: 0.198864\n",
      "[60]\tvalid_0's l1: 0.386364\tvalid_0's l2: 0.198864\n",
      "[61]\tvalid_0's l1: 0.386364\tvalid_0's l2: 0.198864\n",
      "[62]\tvalid_0's l1: 0.386364\tvalid_0's l2: 0.198864\n",
      "[63]\tvalid_0's l1: 0.386364\tvalid_0's l2: 0.198864\n",
      "[64]\tvalid_0's l1: 0.386364\tvalid_0's l2: 0.198864\n",
      "[65]\tvalid_0's l1: 0.386364\tvalid_0's l2: 0.198864\n",
      "[66]\tvalid_0's l1: 0.386364\tvalid_0's l2: 0.198864\n",
      "[67]\tvalid_0's l1: 0.386364\tvalid_0's l2: 0.198864\n",
      "[68]\tvalid_0's l1: 0.386364\tvalid_0's l2: 0.198864\n",
      "[69]\tvalid_0's l1: 0.386364\tvalid_0's l2: 0.198864\n",
      "[70]\tvalid_0's l1: 0.386364\tvalid_0's l2: 0.198864\n",
      "[71]\tvalid_0's l1: 0.386364\tvalid_0's l2: 0.198864\n",
      "[72]\tvalid_0's l1: 0.386364\tvalid_0's l2: 0.198864\n",
      "[73]\tvalid_0's l1: 0.386364\tvalid_0's l2: 0.198864\n",
      "[74]\tvalid_0's l1: 0.386364\tvalid_0's l2: 0.198864\n",
      "[75]\tvalid_0's l1: 0.386364\tvalid_0's l2: 0.198864\n",
      "[76]\tvalid_0's l1: 0.386364\tvalid_0's l2: 0.198864\n",
      "[77]\tvalid_0's l1: 0.386364\tvalid_0's l2: 0.198864\n",
      "[78]\tvalid_0's l1: 0.386364\tvalid_0's l2: 0.198864\n",
      "[79]\tvalid_0's l1: 0.386364\tvalid_0's l2: 0.198864\n",
      "[80]\tvalid_0's l1: 0.386364\tvalid_0's l2: 0.198864\n",
      "[81]\tvalid_0's l1: 0.386364\tvalid_0's l2: 0.198864\n",
      "[82]\tvalid_0's l1: 0.386364\tvalid_0's l2: 0.198864\n",
      "[83]\tvalid_0's l1: 0.386364\tvalid_0's l2: 0.198864\n",
      "[84]\tvalid_0's l1: 0.386364\tvalid_0's l2: 0.198864\n",
      "[85]\tvalid_0's l1: 0.386364\tvalid_0's l2: 0.198864\n",
      "[86]\tvalid_0's l1: 0.386364\tvalid_0's l2: 0.198864\n",
      "[87]\tvalid_0's l1: 0.386364\tvalid_0's l2: 0.198864\n",
      "[88]\tvalid_0's l1: 0.386364\tvalid_0's l2: 0.198864\n",
      "[89]\tvalid_0's l1: 0.386364\tvalid_0's l2: 0.198864\n",
      "[90]\tvalid_0's l1: 0.386364\tvalid_0's l2: 0.198864\n",
      "[91]\tvalid_0's l1: 0.386364\tvalid_0's l2: 0.198864\n",
      "[92]\tvalid_0's l1: 0.386364\tvalid_0's l2: 0.198864\n",
      "[93]\tvalid_0's l1: 0.386364\tvalid_0's l2: 0.198864\n",
      "[94]\tvalid_0's l1: 0.386364\tvalid_0's l2: 0.198864\n",
      "[95]\tvalid_0's l1: 0.386364\tvalid_0's l2: 0.198864\n",
      "[96]\tvalid_0's l1: 0.386364\tvalid_0's l2: 0.198864\n",
      "[97]\tvalid_0's l1: 0.386364\tvalid_0's l2: 0.198864\n",
      "[98]\tvalid_0's l1: 0.386364\tvalid_0's l2: 0.198864\n",
      "[99]\tvalid_0's l1: 0.386364\tvalid_0's l2: 0.198864\n",
      "[100]\tvalid_0's l1: 0.386364\tvalid_0's l2: 0.198864\n"
     ],
     "output_type":"stream"
    },
    {
     "name":"stderr",
     "text":[
      "\/opt\/python\/envs\/default\/lib\/python3.8\/site-packages\/lightgbm\/sklearn.py:726: UserWarning: 'early_stopping_rounds' argument is deprecated and will be removed in a future release of LightGBM. Pass 'early_stopping()' callback via 'callbacks' argument instead.\n",
      "  _log_warning(\"'early_stopping_rounds' argument is deprecated and will be removed in a future release of LightGBM. \"\n"
     ],
     "output_type":"stream"
    },
    {
     "data":{
      "text\/plain":[
       "LGBMRegressor()"
      ]
     },
     "metadata":{
      
     },
     "output_type":"display_data"
    }
   ],
   "metadata":{
    "datalore":{
     "node_id":"IfgIMYY5NJIuOYbjOOtI5K",
     "type":"CODE",
     "hide_input_from_viewers":true,
     "hide_output_from_viewers":true
    }
   }
  },
  {
   "cell_type":"code",
   "source":[
    "y_pred = model.predict(x_test, num_iteration=model.best_iteration_)"
   ],
   "execution_count":10,
   "outputs":[
    
   ],
   "metadata":{
    "datalore":{
     "node_id":"HR9Y8VPw2DB2qAZgostrnZ",
     "type":"CODE",
     "hide_input_from_viewers":true,
     "hide_output_from_viewers":true
    }
   }
  },
  {
   "cell_type":"code",
   "source":[
    "print('train accuracy score', model.score(x_train, y_train))\n",
    "print('test accuracy score', model.score(x_test, y_test))"
   ],
   "execution_count":11,
   "outputs":[
    {
     "name":"stdout",
     "text":[
      "train accuracy score 0.0\n",
      "test accuracy score -0.6256510416666667\n"
     ],
     "output_type":"stream"
    }
   ],
   "metadata":{
    "datalore":{
     "node_id":"xp7pPLfZwyQKT28MyPoZd0",
     "type":"CODE",
     "hide_input_from_viewers":true,
     "hide_output_from_viewers":true
    }
   }
  },
  {
   "cell_type":"code",
   "source":[
    "print(mean_squared_log_error(y_test, y_pred))\n",
    "r2_score(y_test, y_pred)"
   ],
   "execution_count":12,
   "outputs":[
    {
     "name":"stdout",
     "text":[
      "0.12976361682039741\n"
     ],
     "output_type":"stream"
    },
    {
     "data":{
      "text\/plain":[
       "-0.6256510416666667"
      ]
     },
     "metadata":{
      
     },
     "output_type":"display_data"
    }
   ],
   "metadata":{
    "datalore":{
     "node_id":"FWintMuC3gUAoh8J0cyaRp",
     "type":"CODE",
     "hide_input_from_viewers":true,
     "hide_output_from_viewers":true
    }
   }
  },
  {
   "cell_type":"code",
   "source":[
    
   ],
   "execution_count":null,
   "outputs":[
    
   ],
   "metadata":{
    "datalore":{
     "node_id":"y54SBrT4KNmYyMubP2q9Go",
     "type":"CODE",
     "hide_input_from_viewers":true,
     "hide_output_from_viewers":true
    }
   }
  }
 ],
 "metadata":{
  "kernelspec":{
   "display_name":"Python",
   "language":"python",
   "name":"python"
  },
  "datalore":{
   "computation_mode":"REACTIVE",
   "package_manager":"pip",
   "base_environment":"default",
   "packages":[
    {
     "name":"lightgbm",
     "source":"PIP"
    }
   ],
   "report_row_ids":[
    
   ],
   "version":2
  }
 },
 "nbformat":4,
 "nbformat_minor":4
}